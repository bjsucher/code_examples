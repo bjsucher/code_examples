{
 "cells": [
  {
   "cell_type": "code",
   "execution_count": 1,
   "metadata": {},
   "outputs": [],
   "source": [
    "import pandas as pd"
   ]
  },
  {
   "cell_type": "markdown",
   "metadata": {},
   "source": [
    "### Read in Data"
   ]
  },
  {
   "cell_type": "code",
   "execution_count": 2,
   "metadata": {},
   "outputs": [],
   "source": [
    "seeds = pd.read_csv('NCAATourneySeeds.csv')\n",
    "teams = pd.read_csv('Teams.csv')\n",
    "regSeason = pd.read_csv('RegularSeasonCompactResults.csv')\n",
    "regSeasonDetailed = pd.read_csv('RegularSeasonDetailedResults.csv')\n",
    "tourneyResults = pd.read_csv('NCAATourneyCompactResults.csv')\n",
    "confTourney = pd.read_csv('ConferenceTourneyGames.csv')"
   ]
  },
  {
   "cell_type": "markdown",
   "metadata": {},
   "source": [
    "### Narrow down data set to one season"
   ]
  },
  {
   "cell_type": "code",
   "execution_count": 3,
   "metadata": {},
   "outputs": [],
   "source": [
    "LastSeason = regSeasonDetailed[regSeasonDetailed.Season == 2019]"
   ]
  },
  {
   "cell_type": "code",
   "execution_count": 4,
   "metadata": {},
   "outputs": [],
   "source": [
    "LastSeason.reset_index(inplace = True)"
   ]
  },
  {
   "cell_type": "markdown",
   "metadata": {},
   "source": [
    "### Set up ratings dictionary\n",
    "#### Ratings dictionary will be used keep track of points given to each team to receive a final rating at the end of the program to help decide which teams to pick"
   ]
  },
  {
   "cell_type": "code",
   "execution_count": 5,
   "metadata": {},
   "outputs": [],
   "source": [
    "ratings = dict()\n",
    "\n",
    "for i in range(len(LastSeason)):\n",
    "    if (LastSeason.WTeamID[i] not in ratings):\n",
    "        ratings[LastSeason.WTeamID[i]] = 0"
   ]
  },
  {
   "cell_type": "markdown",
   "metadata": {},
   "source": [
    "### Calculate assist - turnover ratio"
   ]
  },
  {
   "cell_type": "code",
   "execution_count": 6,
   "metadata": {},
   "outputs": [],
   "source": [
    "teamAst = dict()\n",
    "for i in range(len(LastSeason)):\n",
    "    if (LastSeason.WTeamID[i] in teamAst):\n",
    "        teamAst[LastSeason.WTeamID[i]] += LastSeason.WAst[i]\n",
    "    else:\n",
    "        teamAst[LastSeason.WTeamID[i]] = LastSeason.WAst[i]\n",
    "    if (LastSeason.LTeamID[i] in teamAst):\n",
    "        teamAst[LastSeason.LTeamID[i]] += LastSeason.LAst[i]\n",
    "    else:\n",
    "        teamAst[LastSeason.LTeamID[i]] = LastSeason.LAst[i]        "
   ]
  },
  {
   "cell_type": "code",
   "execution_count": 7,
   "metadata": {},
   "outputs": [],
   "source": [
    "teamTO = dict()\n",
    "for i in range(len(LastSeason)):\n",
    "    if (LastSeason.WTeamID[i] in teamTO):\n",
    "        teamTO[LastSeason.WTeamID[i]] += LastSeason.WTO[i]\n",
    "    else:\n",
    "        teamTO[LastSeason.WTeamID[i]] = LastSeason.WTO[i]\n",
    "    if (LastSeason.LTeamID[i] in teamTO):\n",
    "        teamTO[LastSeason.LTeamID[i]] += LastSeason.LTO[i]\n",
    "    else:\n",
    "        teamTO[LastSeason.LTeamID[i]] = LastSeason.LTO[i]  "
   ]
  },
  {
   "cell_type": "code",
   "execution_count": 8,
   "metadata": {},
   "outputs": [],
   "source": [
    "teamGames = dict()\n",
    "for i in range(len(LastSeason)):\n",
    "    if (LastSeason.WTeamID[i] in teamGames):\n",
    "        teamGames[LastSeason.WTeamID[i]] += 1\n",
    "    else:\n",
    "        teamGames[LastSeason.WTeamID[i]] = 1\n",
    "    if (LastSeason.LTeamID[i] in teamGames):\n",
    "        teamGames[LastSeason.LTeamID[i]] += 1\n",
    "    else:\n",
    "        teamGames[LastSeason.LTeamID[i]] = 1"
   ]
  },
  {
   "cell_type": "code",
   "execution_count": 9,
   "metadata": {},
   "outputs": [],
   "source": [
    "teamATOratio = dict()\n",
    "for i in teamGames:\n",
    "    teamATOratio[i] = ((teamAst[i] / teamGames[i]) / (teamTO[i] / teamGames[i])) "
   ]
  },
  {
   "cell_type": "markdown",
   "metadata": {},
   "source": [
    "### Give ratings to different levels of Assist-Turnover Ratio"
   ]
  },
  {
   "cell_type": "code",
   "execution_count": 10,
   "metadata": {},
   "outputs": [],
   "source": [
    "for i in teamATOratio:\n",
    "    if (teamATOratio[i] > 1.5):\n",
    "        ratings[i] += 15\n",
    "    elif (teamATOratio[i] > 1.4):\n",
    "        ratings[i] += 13\n",
    "    elif (teamATOratio[i] > 1.3):\n",
    "        ratings[i] += 10\n",
    "    elif (teamATOratio[i] > 1.2):\n",
    "        ratings[i] += 8\n",
    "    elif (teamATOratio[i] > 1.1):\n",
    "        ratings[i] += 6\n",
    "    elif (teamATOratio[i] > 1.0):\n",
    "        ratings[i] += 4\n",
    "    elif (teamATOratio[i] > 0.9):\n",
    "        ratings[i] += 2\n",
    "    elif (teamATOratio[i] > 0.8):\n",
    "        ratings[i] += 1        "
   ]
  },
  {
   "cell_type": "markdown",
   "metadata": {},
   "source": [
    "### Calculate Offensive Efficency\n",
    "#### Possessions = FGA - OR + T + (0.4 * FTA)"
   ]
  },
  {
   "cell_type": "code",
   "execution_count": 11,
   "metadata": {},
   "outputs": [],
   "source": [
    "teamPoss = dict()\n",
    "for i in range(len(LastSeason)):\n",
    "    if (LastSeason.WTeamID[i] in teamPoss):\n",
    "        teamPoss[LastSeason.WTeamID[i]] += (LastSeason.WFGA[i] - LastSeason.WOR[i] + LastSeason.WTO[i] + (0.4 * LastSeason.WFTA[i]))\n",
    "    else:\n",
    "        teamPoss[LastSeason.WTeamID[i]] = (LastSeason.WFGA[i] - LastSeason.WOR[i] + LastSeason.WTO[i] + (0.4 * LastSeason.WFTA[i]))\n",
    "    if (LastSeason.LTeamID[i] in teamPoss):\n",
    "        teamPoss[LastSeason.LTeamID[i]] += (LastSeason.LFGA[i] - LastSeason.LOR[i] + LastSeason.LTO[i] + (0.4 * LastSeason.LFTA[i]))\n",
    "    else:\n",
    "        teamPoss[LastSeason.LTeamID[i]] = (LastSeason.LFGA[i] - LastSeason.LOR[i] + LastSeason.LTO[i] + (0.4 * LastSeason.LFTA[i]))  "
   ]
  },
  {
   "cell_type": "code",
   "execution_count": 12,
   "metadata": {},
   "outputs": [],
   "source": [
    "teamPts = dict()\n",
    "for i in range(len(LastSeason)):\n",
    "    if (LastSeason.WTeamID[i] in teamPts):\n",
    "        teamPts[LastSeason.WTeamID[i]] += LastSeason.WScore[i]\n",
    "    else:\n",
    "        teamPts[LastSeason.WTeamID[i]] = LastSeason.WScore[i]\n",
    "    if (LastSeason.LTeamID[i] in teamPts):\n",
    "        teamPts[LastSeason.LTeamID[i]] += LastSeason.LScore[i]\n",
    "    else:\n",
    "        teamPts[LastSeason.LTeamID[i]] = LastSeason.LScore[i]"
   ]
  },
  {
   "cell_type": "code",
   "execution_count": 13,
   "metadata": {},
   "outputs": [],
   "source": [
    "teamOffEff = dict()\n",
    "for i in teamPts:\n",
    "    teamOffEff[i] = ((teamPts[i] / teamPoss[i]) * 100)"
   ]
  },
  {
   "cell_type": "markdown",
   "metadata": {},
   "source": [
    "### Determine ratings for offensive efficiency"
   ]
  },
  {
   "cell_type": "code",
   "execution_count": 14,
   "metadata": {},
   "outputs": [],
   "source": [
    "for i in teamOffEff:\n",
    "    if (teamOffEff[i] > 120):\n",
    "        ratings[i] += 20\n",
    "    elif (teamOffEff[i] > 115):\n",
    "        ratings[i] += 18\n",
    "    elif (teamOffEff[i] > 110):\n",
    "        ratings[i] += 13\n",
    "    elif (teamOffEff[i] > 105):\n",
    "        ratings[i] += 10\n",
    "    elif (teamOffEff[i] > 100):\n",
    "        ratings[i] += 7\n",
    "    elif (teamOffEff[i] > 95):\n",
    "        ratings[i] += 4\n",
    "    elif (teamOffEff[i] > 90):\n",
    "        ratings[i] += 2"
   ]
  },
  {
   "cell_type": "markdown",
   "metadata": {},
   "source": [
    "### Calculate Defensive Efficiency"
   ]
  },
  {
   "cell_type": "code",
   "execution_count": 15,
   "metadata": {},
   "outputs": [],
   "source": [
    "teamOppPoss = dict()\n",
    "for i in range(len(LastSeason)):\n",
    "    if (LastSeason.WTeamID[i] in teamOppPoss):\n",
    "        teamOppPoss[LastSeason.WTeamID[i]] += (LastSeason.LFGA[i] - LastSeason.LOR[i] + LastSeason.LTO[i] + (0.4 * LastSeason.LFTA[i]))\n",
    "    else:\n",
    "        teamOppPoss[LastSeason.WTeamID[i]] = (LastSeason.LFGA[i] - LastSeason.LOR[i] + LastSeason.LTO[i] + (0.4 * LastSeason.LFTA[i]))\n",
    "    if (LastSeason.LTeamID[i] in teamOppPoss):\n",
    "        teamOppPoss[LastSeason.LTeamID[i]] += (LastSeason.WFGA[i] - LastSeason.WOR[i] + LastSeason.WTO[i] + (0.4 * LastSeason.WFTA[i]))\n",
    "    else:\n",
    "        teamOppPoss[LastSeason.LTeamID[i]] = (LastSeason.WFGA[i] - LastSeason.WOR[i] + LastSeason.WTO[i] + (0.4 * LastSeason.WFTA[i]))  "
   ]
  },
  {
   "cell_type": "code",
   "execution_count": 16,
   "metadata": {},
   "outputs": [],
   "source": [
    "teamOppPts = dict()\n",
    "for i in range(len(LastSeason)):\n",
    "    if (LastSeason.WTeamID[i] in teamOppPts):\n",
    "        teamOppPts[LastSeason.WTeamID[i]] += LastSeason.LScore[i]\n",
    "    else:\n",
    "        teamOppPts[LastSeason.WTeamID[i]] = LastSeason.LScore[i]\n",
    "    if (LastSeason.LTeamID[i] in teamOppPts):\n",
    "        teamOppPts[LastSeason.LTeamID[i]] += LastSeason.WScore[i]\n",
    "    else:\n",
    "        teamOppPts[LastSeason.LTeamID[i]] = LastSeason.WScore[i]"
   ]
  },
  {
   "cell_type": "code",
   "execution_count": 17,
   "metadata": {},
   "outputs": [],
   "source": [
    "teamDefEff = dict()\n",
    "for i in teamOppPts:\n",
    "    teamDefEff[i] = ((teamOppPts[i] / teamOppPoss[i]) * 100)"
   ]
  },
  {
   "cell_type": "markdown",
   "metadata": {},
   "source": [
    "### Determine Ratings for each level of defensive efficiency"
   ]
  },
  {
   "cell_type": "code",
   "execution_count": 18,
   "metadata": {},
   "outputs": [],
   "source": [
    "for i in teamDefEff:\n",
    "    if (teamDefEff[i] < 95):\n",
    "        ratings[i] += 20\n",
    "    elif (teamDefEff[i] < 100):\n",
    "        ratings[i] += 15\n",
    "    elif (teamDefEff[i] < 105):\n",
    "        ratings[i] += 9\n",
    "    elif (teamDefEff[i] < 110):\n",
    "        ratings[i] += 5\n",
    "    elif (teamDefEff[i] < 115):\n",
    "        ratings[i] += 3\n",
    "    elif (teamDefEff[i] < 120):\n",
    "        ratings[i] += 1"
   ]
  },
  {
   "cell_type": "markdown",
   "metadata": {},
   "source": [
    "### Calculate defensive rebounding percentage"
   ]
  },
  {
   "cell_type": "code",
   "execution_count": 19,
   "metadata": {},
   "outputs": [],
   "source": [
    "teamDR = dict()\n",
    "for i in range(len(LastSeason)):\n",
    "    if (LastSeason.WTeamID[i] in teamDR):\n",
    "        teamDR[LastSeason.WTeamID[i]] += LastSeason.WDR[i]\n",
    "    else:\n",
    "        teamDR[LastSeason.WTeamID[i]] = LastSeason.WDR[i]\n",
    "    if (LastSeason.LTeamID[i] in teamDR):\n",
    "        teamDR[LastSeason.LTeamID[i]] += LastSeason.LDR[i]\n",
    "    else:\n",
    "        teamDR[LastSeason.LTeamID[i]] = LastSeason.LDR[i]"
   ]
  },
  {
   "cell_type": "code",
   "execution_count": 20,
   "metadata": {},
   "outputs": [],
   "source": [
    "teamOppDR = dict()\n",
    "for i in range(len(LastSeason)):\n",
    "    if (LastSeason.WTeamID[i] in teamOppDR):\n",
    "        teamOppDR[LastSeason.WTeamID[i]] += LastSeason.LDR[i]\n",
    "    else:\n",
    "        teamOppDR[LastSeason.WTeamID[i]] = LastSeason.LDR[i]\n",
    "    if (LastSeason.LTeamID[i] in teamOppDR):\n",
    "        teamOppDR[LastSeason.LTeamID[i]] += LastSeason.WDR[i]\n",
    "    else:\n",
    "        teamOppDR[LastSeason.LTeamID[i]] = LastSeason.WDR[i]"
   ]
  },
  {
   "cell_type": "code",
   "execution_count": 21,
   "metadata": {},
   "outputs": [],
   "source": [
    "teamDRpct = dict()\n",
    "for i in teamOppDR:\n",
    "    teamDRpct[i] = (teamDR[i] / (teamDR[i] + teamOppDR[i]))"
   ]
  },
  {
   "cell_type": "markdown",
   "metadata": {},
   "source": [
    "### Calculate Offensive Rebounding Percentage"
   ]
  },
  {
   "cell_type": "code",
   "execution_count": 22,
   "metadata": {},
   "outputs": [],
   "source": [
    "teamOR = dict()\n",
    "for i in range(len(LastSeason)):\n",
    "    if (LastSeason.WTeamID[i] in teamOR):\n",
    "        teamOR[LastSeason.WTeamID[i]] += LastSeason.WOR[i]\n",
    "    else:\n",
    "        teamOR[LastSeason.WTeamID[i]] = LastSeason.WOR[i]\n",
    "    if (LastSeason.LTeamID[i] in teamOR):\n",
    "        teamOR[LastSeason.LTeamID[i]] += LastSeason.LOR[i]\n",
    "    else:\n",
    "        teamOR[LastSeason.LTeamID[i]] = LastSeason.LOR[i]"
   ]
  },
  {
   "cell_type": "code",
   "execution_count": 23,
   "metadata": {},
   "outputs": [],
   "source": [
    "teamOppOR = dict()\n",
    "for i in range(len(LastSeason)):\n",
    "    if (LastSeason.WTeamID[i] in teamOppOR):\n",
    "        teamOppOR[LastSeason.WTeamID[i]] += LastSeason.LOR[i]\n",
    "    else:\n",
    "        teamOppOR[LastSeason.WTeamID[i]] = LastSeason.LOR[i]\n",
    "    if (LastSeason.LTeamID[i] in teamOppOR):\n",
    "        teamOppOR[LastSeason.LTeamID[i]] += LastSeason.WOR[i]\n",
    "    else:\n",
    "        teamOppOR[LastSeason.LTeamID[i]] = LastSeason.WOR[i]"
   ]
  },
  {
   "cell_type": "code",
   "execution_count": 24,
   "metadata": {},
   "outputs": [],
   "source": [
    "teamORpct = dict()\n",
    "for i in teamOppOR:\n",
    "    teamORpct[i] = (teamOR[i] / (teamOR[i] + teamOppOR[i]))"
   ]
  },
  {
   "cell_type": "markdown",
   "metadata": {},
   "source": [
    "### Give ratings for levels of each rebounding efficiency"
   ]
  },
  {
   "cell_type": "code",
   "execution_count": 25,
   "metadata": {},
   "outputs": [],
   "source": [
    "for i in teamDRpct:\n",
    "    if (teamDRpct[i] > 0.58):\n",
    "        ratings[i] += 10\n",
    "    elif (teamDRpct[i] > 0.56):\n",
    "        ratings[i] += 8\n",
    "    elif (teamDRpct[i] > 0.54):\n",
    "        ratings[i] += 6\n",
    "    elif (teamDRpct[i] > 0.51):\n",
    "        ratings[i] += 4\n",
    "    elif (teamDRpct[i] > 0.48):\n",
    "        ratings[i] += 2\n",
    "    elif (teamDRpct[i] > 0.45):\n",
    "        ratings[i] += 1  "
   ]
  },
  {
   "cell_type": "code",
   "execution_count": 26,
   "metadata": {},
   "outputs": [],
   "source": [
    "for i in teamORpct:\n",
    "    if (teamORpct[i] > 0.6):\n",
    "        ratings[i] += 8\n",
    "    elif (teamORpct[i] > 0.57):\n",
    "        ratings[i] += 7\n",
    "    elif (teamORpct[i] > 0.54):\n",
    "        ratings[i] += 5\n",
    "    elif (teamORpct[i] > 0.52):\n",
    "        ratings[i] += 4\n",
    "    elif (teamORpct[i] > 0.50):\n",
    "        ratings[i] += 3\n",
    "    elif (teamORpct[i] > 0.47):\n",
    "        ratings[i] += 2  \n",
    "    elif (teamORpct[i] > 0.44):\n",
    "        ratings[i] += 1"
   ]
  },
  {
   "cell_type": "markdown",
   "metadata": {},
   "source": [
    "### Give teams in the best 6 conferences 5 extra points because of the difficulty of schedule"
   ]
  },
  {
   "cell_type": "code",
   "execution_count": 27,
   "metadata": {},
   "outputs": [],
   "source": [
    "conf = dict()\n",
    "for i in confTourney.index:\n",
    "    if (confTourney.WTeamID[i] not in conf):\n",
    "        conf[confTourney.WTeamID[i]] = confTourney.ConfAbbrev[i]\n",
    "    else:\n",
    "        continue\n",
    "    if (confTourney.LTeamID[i] not in conf):\n",
    "        conf[confTourney.LTeamID[i]] = confTourney.ConfAbbrev[i]\n",
    "    else:\n",
    "        continue   "
   ]
  },
  {
   "cell_type": "code",
   "execution_count": 28,
   "metadata": {},
   "outputs": [],
   "source": [
    "for i in conf:\n",
    "    if (conf[i] == 'pac_ten' or conf[i] == 'sec' or conf[i] == 'big_east' or conf[i] == 'acc' or \n",
    "        conf[i] == 'big_twelve' or conf[i] == 'big_ten'):\n",
    "        ratings[i] += 5"
   ]
  },
  {
   "cell_type": "markdown",
   "metadata": {},
   "source": [
    "### Look at ratings and compare to teams"
   ]
  },
  {
   "cell_type": "code",
   "execution_count": 29,
   "metadata": {},
   "outputs": [],
   "source": [
    "teamRatings = pd.DataFrame.from_dict(ratings, orient = 'index')\n",
    "teamRatings['Name'] = ''"
   ]
  },
  {
   "cell_type": "code",
   "execution_count": 30,
   "metadata": {},
   "outputs": [
    {
     "name": "stderr",
     "output_type": "stream",
     "text": [
      "c:\\users\\brand\\anaconda3\\lib\\site-packages\\ipykernel_launcher.py:4: SettingWithCopyWarning: \n",
      "A value is trying to be set on a copy of a slice from a DataFrame\n",
      "\n",
      "See the caveats in the documentation: http://pandas.pydata.org/pandas-docs/stable/indexing.html#indexing-view-versus-copy\n",
      "  after removing the cwd from sys.path.\n"
     ]
    }
   ],
   "source": [
    "for i in teamRatings.index:\n",
    "    for j in range(len(teams)):\n",
    "        if (teams.TeamID[j] == i):\n",
    "            teamRatings['Name'][i] = teams.TeamName[j]"
   ]
  },
  {
   "cell_type": "code",
   "execution_count": 31,
   "metadata": {},
   "outputs": [],
   "source": [
    "teamRatings.rename(columns = {0:'Rating'}, inplace = True)"
   ]
  },
  {
   "cell_type": "code",
   "execution_count": 32,
   "metadata": {},
   "outputs": [],
   "source": [
    "teamRatings.sort_values(by=['Rating'], ascending = False, inplace = True)"
   ]
  },
  {
   "cell_type": "markdown",
   "metadata": {},
   "source": [
    "### Top 30 Teams"
   ]
  },
  {
   "cell_type": "code",
   "execution_count": 33,
   "metadata": {},
   "outputs": [
    {
     "data": {
      "text/html": [
       "<div>\n",
       "<style scoped>\n",
       "    .dataframe tbody tr th:only-of-type {\n",
       "        vertical-align: middle;\n",
       "    }\n",
       "\n",
       "    .dataframe tbody tr th {\n",
       "        vertical-align: top;\n",
       "    }\n",
       "\n",
       "    .dataframe thead th {\n",
       "        text-align: right;\n",
       "    }\n",
       "</style>\n",
       "<table border=\"1\" class=\"dataframe\">\n",
       "  <thead>\n",
       "    <tr style=\"text-align: right;\">\n",
       "      <th></th>\n",
       "      <th>Rating</th>\n",
       "      <th>Name</th>\n",
       "    </tr>\n",
       "  </thead>\n",
       "  <tbody>\n",
       "    <tr>\n",
       "      <th>1438</th>\n",
       "      <td>66</td>\n",
       "      <td>Virginia</td>\n",
       "    </tr>\n",
       "    <tr>\n",
       "      <th>1211</th>\n",
       "      <td>64</td>\n",
       "      <td>Gonzaga</td>\n",
       "    </tr>\n",
       "    <tr>\n",
       "      <th>1277</th>\n",
       "      <td>63</td>\n",
       "      <td>Michigan St</td>\n",
       "    </tr>\n",
       "    <tr>\n",
       "      <th>1181</th>\n",
       "      <td>61</td>\n",
       "      <td>Duke</td>\n",
       "    </tr>\n",
       "    <tr>\n",
       "      <th>1314</th>\n",
       "      <td>59</td>\n",
       "      <td>North Carolina</td>\n",
       "    </tr>\n",
       "    <tr>\n",
       "      <th>1276</th>\n",
       "      <td>57</td>\n",
       "      <td>Michigan</td>\n",
       "    </tr>\n",
       "    <tr>\n",
       "      <th>1429</th>\n",
       "      <td>56</td>\n",
       "      <td>Utah St</td>\n",
       "    </tr>\n",
       "    <tr>\n",
       "      <th>1246</th>\n",
       "      <td>55</td>\n",
       "      <td>Kentucky</td>\n",
       "    </tr>\n",
       "    <tr>\n",
       "      <th>1138</th>\n",
       "      <td>55</td>\n",
       "      <td>Buffalo</td>\n",
       "    </tr>\n",
       "    <tr>\n",
       "      <th>1397</th>\n",
       "      <td>54</td>\n",
       "      <td>Tennessee</td>\n",
       "    </tr>\n",
       "    <tr>\n",
       "      <th>1439</th>\n",
       "      <td>54</td>\n",
       "      <td>Virginia Tech</td>\n",
       "    </tr>\n",
       "    <tr>\n",
       "      <th>1222</th>\n",
       "      <td>54</td>\n",
       "      <td>Houston</td>\n",
       "    </tr>\n",
       "    <tr>\n",
       "      <th>1308</th>\n",
       "      <td>53</td>\n",
       "      <td>New Mexico St</td>\n",
       "    </tr>\n",
       "    <tr>\n",
       "      <th>1345</th>\n",
       "      <td>53</td>\n",
       "      <td>Purdue</td>\n",
       "    </tr>\n",
       "    <tr>\n",
       "      <th>1305</th>\n",
       "      <td>53</td>\n",
       "      <td>Nevada</td>\n",
       "    </tr>\n",
       "    <tr>\n",
       "      <th>1293</th>\n",
       "      <td>52</td>\n",
       "      <td>Murray St</td>\n",
       "    </tr>\n",
       "    <tr>\n",
       "      <th>1458</th>\n",
       "      <td>50</td>\n",
       "      <td>Wisconsin</td>\n",
       "    </tr>\n",
       "    <tr>\n",
       "      <th>1403</th>\n",
       "      <td>49</td>\n",
       "      <td>Texas Tech</td>\n",
       "    </tr>\n",
       "    <tr>\n",
       "      <th>1125</th>\n",
       "      <td>48</td>\n",
       "      <td>Belmont</td>\n",
       "    </tr>\n",
       "    <tr>\n",
       "      <th>1268</th>\n",
       "      <td>47</td>\n",
       "      <td>Maryland</td>\n",
       "    </tr>\n",
       "    <tr>\n",
       "      <th>1243</th>\n",
       "      <td>46</td>\n",
       "      <td>Kansas St</td>\n",
       "    </tr>\n",
       "    <tr>\n",
       "      <th>1459</th>\n",
       "      <td>46</td>\n",
       "      <td>Wofford</td>\n",
       "    </tr>\n",
       "    <tr>\n",
       "      <th>1301</th>\n",
       "      <td>46</td>\n",
       "      <td>NC State</td>\n",
       "    </tr>\n",
       "    <tr>\n",
       "      <th>1153</th>\n",
       "      <td>45</td>\n",
       "      <td>Cincinnati</td>\n",
       "    </tr>\n",
       "    <tr>\n",
       "      <th>1405</th>\n",
       "      <td>45</td>\n",
       "      <td>Toledo</td>\n",
       "    </tr>\n",
       "    <tr>\n",
       "      <th>1414</th>\n",
       "      <td>44</td>\n",
       "      <td>UC Irvine</td>\n",
       "    </tr>\n",
       "    <tr>\n",
       "      <th>1437</th>\n",
       "      <td>43</td>\n",
       "      <td>Villanova</td>\n",
       "    </tr>\n",
       "    <tr>\n",
       "      <th>1220</th>\n",
       "      <td>43</td>\n",
       "      <td>Hofstra</td>\n",
       "    </tr>\n",
       "    <tr>\n",
       "      <th>1332</th>\n",
       "      <td>43</td>\n",
       "      <td>Oregon</td>\n",
       "    </tr>\n",
       "    <tr>\n",
       "      <th>1160</th>\n",
       "      <td>43</td>\n",
       "      <td>Colorado</td>\n",
       "    </tr>\n",
       "  </tbody>\n",
       "</table>\n",
       "</div>"
      ],
      "text/plain": [
       "      Rating            Name\n",
       "1438      66        Virginia\n",
       "1211      64         Gonzaga\n",
       "1277      63     Michigan St\n",
       "1181      61            Duke\n",
       "1314      59  North Carolina\n",
       "1276      57        Michigan\n",
       "1429      56         Utah St\n",
       "1246      55        Kentucky\n",
       "1138      55         Buffalo\n",
       "1397      54       Tennessee\n",
       "1439      54   Virginia Tech\n",
       "1222      54         Houston\n",
       "1308      53   New Mexico St\n",
       "1345      53          Purdue\n",
       "1305      53          Nevada\n",
       "1293      52       Murray St\n",
       "1458      50       Wisconsin\n",
       "1403      49      Texas Tech\n",
       "1125      48         Belmont\n",
       "1268      47        Maryland\n",
       "1243      46       Kansas St\n",
       "1459      46         Wofford\n",
       "1301      46        NC State\n",
       "1153      45      Cincinnati\n",
       "1405      45          Toledo\n",
       "1414      44       UC Irvine\n",
       "1437      43       Villanova\n",
       "1220      43         Hofstra\n",
       "1332      43          Oregon\n",
       "1160      43        Colorado"
      ]
     },
     "execution_count": 33,
     "metadata": {},
     "output_type": "execute_result"
    }
   ],
   "source": [
    "teamRatings[:30]"
   ]
  },
  {
   "cell_type": "code",
   "execution_count": 34,
   "metadata": {},
   "outputs": [
    {
     "data": {
      "text/html": [
       "<div>\n",
       "<style scoped>\n",
       "    .dataframe tbody tr th:only-of-type {\n",
       "        vertical-align: middle;\n",
       "    }\n",
       "\n",
       "    .dataframe tbody tr th {\n",
       "        vertical-align: top;\n",
       "    }\n",
       "\n",
       "    .dataframe thead th {\n",
       "        text-align: right;\n",
       "    }\n",
       "</style>\n",
       "<table border=\"1\" class=\"dataframe\">\n",
       "  <thead>\n",
       "    <tr style=\"text-align: right;\">\n",
       "      <th></th>\n",
       "      <th>Rating</th>\n",
       "      <th>Name</th>\n",
       "    </tr>\n",
       "  </thead>\n",
       "  <tbody>\n",
       "    <tr>\n",
       "      <th>1318</th>\n",
       "      <td>36</td>\n",
       "      <td>Northeastern</td>\n",
       "    </tr>\n",
       "  </tbody>\n",
       "</table>\n",
       "</div>"
      ],
      "text/plain": [
       "      Rating          Name\n",
       "1318      36  Northeastern"
      ]
     },
     "execution_count": 34,
     "metadata": {},
     "output_type": "execute_result"
    }
   ],
   "source": [
    "teamRatings[teamRatings.Name == 'Northeastern']"
   ]
  },
  {
   "cell_type": "code",
   "execution_count": 35,
   "metadata": {},
   "outputs": [
    {
     "data": {
      "text/html": [
       "<div>\n",
       "<style scoped>\n",
       "    .dataframe tbody tr th:only-of-type {\n",
       "        vertical-align: middle;\n",
       "    }\n",
       "\n",
       "    .dataframe tbody tr th {\n",
       "        vertical-align: top;\n",
       "    }\n",
       "\n",
       "    .dataframe thead th {\n",
       "        text-align: right;\n",
       "    }\n",
       "</style>\n",
       "<table border=\"1\" class=\"dataframe\">\n",
       "  <thead>\n",
       "    <tr style=\"text-align: right;\">\n",
       "      <th></th>\n",
       "      <th>Rating</th>\n",
       "      <th>Name</th>\n",
       "    </tr>\n",
       "  </thead>\n",
       "  <tbody>\n",
       "    <tr>\n",
       "      <th>1159</th>\n",
       "      <td>35</td>\n",
       "      <td>Colgate</td>\n",
       "    </tr>\n",
       "  </tbody>\n",
       "</table>\n",
       "</div>"
      ],
      "text/plain": [
       "      Rating     Name\n",
       "1159      35  Colgate"
      ]
     },
     "execution_count": 35,
     "metadata": {},
     "output_type": "execute_result"
    }
   ],
   "source": [
    "teamRatings[teamRatings.Name.str.contains(\"Colg\")]"
   ]
  }
 ],
 "metadata": {
  "kernelspec": {
   "display_name": "Python 3",
   "language": "python",
   "name": "python3"
  },
  "language_info": {
   "codemirror_mode": {
    "name": "ipython",
    "version": 3
   },
   "file_extension": ".py",
   "mimetype": "text/x-python",
   "name": "python",
   "nbconvert_exporter": "python",
   "pygments_lexer": "ipython3",
   "version": "3.6.4"
  }
 },
 "nbformat": 4,
 "nbformat_minor": 2
}
