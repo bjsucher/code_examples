{
 "cells": [
  {
   "cell_type": "code",
   "execution_count": 2,
   "metadata": {},
   "outputs": [],
   "source": [
    "import pandas as pd"
   ]
  },
  {
   "cell_type": "markdown",
   "metadata": {},
   "source": [
    "### Read in data"
   ]
  },
  {
   "cell_type": "code",
   "execution_count": 3,
   "metadata": {},
   "outputs": [],
   "source": [
    "seeds = pd.read_csv('WNCAATourneySeeds.csv')\n",
    "teams = pd.read_csv('WTeams.csv')\n",
    "menTeams = pd.read_csv('Teams.csv')\n",
    "regSeason = pd.read_csv('WRegularSeasonCompactResults.csv')\n",
    "regSeasonDetailed = pd.read_csv('WRegularSeasonDetailedResults.csv')\n",
    "tourneyResults = pd.read_csv('WNCAATourneyCompactResults.csv')\n",
    "conferences = pd.read_csv('Conferences.csv')\n",
    "confTourney = pd.read_csv('ConferenceTourneyGames.csv')"
   ]
  },
  {
   "cell_type": "markdown",
   "metadata": {},
   "source": [
    "### Set the season to the year most recently played"
   ]
  },
  {
   "cell_type": "code",
   "execution_count": 4,
   "metadata": {},
   "outputs": [],
   "source": [
    "LastSeason = regSeasonDetailed[regSeasonDetailed.Season == 2019]"
   ]
  },
  {
   "cell_type": "code",
   "execution_count": 5,
   "metadata": {},
   "outputs": [],
   "source": [
    "LastSeason.reset_index(inplace = True)"
   ]
  },
  {
   "cell_type": "markdown",
   "metadata": {},
   "source": [
    "### Set up ratings dictionary"
   ]
  },
  {
   "cell_type": "code",
   "execution_count": 6,
   "metadata": {},
   "outputs": [],
   "source": [
    "ratings = dict()\n",
    "for i in range(len(LastSeason)):\n",
    "    if (LastSeason.WTeamID[i] not in ratings):\n",
    "        ratings[LastSeason.WTeamID[i]] = 0"
   ]
  },
  {
   "cell_type": "markdown",
   "metadata": {},
   "source": [
    "### 3 Teams were undiscovered from the code above and had to be defined manually"
   ]
  },
  {
   "cell_type": "code",
   "execution_count": 8,
   "metadata": {},
   "outputs": [],
   "source": [
    "ratings[3152] = 0\n",
    "ratings[3105] = 0\n",
    "ratings[3184] = 0"
   ]
  },
  {
   "cell_type": "markdown",
   "metadata": {},
   "source": [
    "### Calculate assist - turnover ratio"
   ]
  },
  {
   "cell_type": "code",
   "execution_count": 9,
   "metadata": {},
   "outputs": [],
   "source": [
    "teamAst = dict()\n",
    "for i in range(len(LastSeason)):\n",
    "    if (LastSeason.WTeamID[i] in teamAst):\n",
    "        teamAst[LastSeason.WTeamID[i]] += LastSeason.WAst[i]\n",
    "    else:\n",
    "        teamAst[LastSeason.WTeamID[i]] = LastSeason.WAst[i]\n",
    "    if (LastSeason.LTeamID[i] in teamAst):\n",
    "        teamAst[LastSeason.LTeamID[i]] += LastSeason.LAst[i]\n",
    "    else:\n",
    "        teamAst[LastSeason.LTeamID[i]] = LastSeason.LAst[i]        "
   ]
  },
  {
   "cell_type": "code",
   "execution_count": 10,
   "metadata": {},
   "outputs": [],
   "source": [
    "teamTO = dict()\n",
    "for i in range(len(LastSeason)):\n",
    "    if (LastSeason.WTeamID[i] in teamTO):\n",
    "        teamTO[LastSeason.WTeamID[i]] += LastSeason.WTO[i]\n",
    "    else:\n",
    "        teamTO[LastSeason.WTeamID[i]] = LastSeason.WTO[i]\n",
    "    if (LastSeason.LTeamID[i] in teamTO):\n",
    "        teamTO[LastSeason.LTeamID[i]] += LastSeason.LTO[i]\n",
    "    else:\n",
    "        teamTO[LastSeason.LTeamID[i]] = LastSeason.LTO[i]  "
   ]
  },
  {
   "cell_type": "code",
   "execution_count": 11,
   "metadata": {},
   "outputs": [],
   "source": [
    "teamGames = dict()\n",
    "for i in range(len(LastSeason)):\n",
    "    if (LastSeason.WTeamID[i] in teamGames):\n",
    "        teamGames[LastSeason.WTeamID[i]] += 1\n",
    "    else:\n",
    "        teamGames[LastSeason.WTeamID[i]] = 1\n",
    "    if (LastSeason.LTeamID[i] in teamGames):\n",
    "        teamGames[LastSeason.LTeamID[i]] += 1\n",
    "    else:\n",
    "        teamGames[LastSeason.LTeamID[i]] = 1"
   ]
  },
  {
   "cell_type": "code",
   "execution_count": 12,
   "metadata": {},
   "outputs": [],
   "source": [
    "teamATOratio = dict()\n",
    "for i in teamGames:\n",
    "    teamATOratio[i] = ((teamAst[i] / teamGames[i]) / (teamTO[i] / teamGames[i])) "
   ]
  },
  {
   "cell_type": "markdown",
   "metadata": {},
   "source": [
    "### Give rankings to different leves of Assist-Turnover Ratio"
   ]
  },
  {
   "cell_type": "code",
   "execution_count": 13,
   "metadata": {},
   "outputs": [],
   "source": [
    "for i in teamATOratio:\n",
    "    if (teamATOratio[i] > 1.5):\n",
    "        ratings[i] += 15\n",
    "    elif (teamATOratio[i] > 1.4):\n",
    "        ratings[i] += 13\n",
    "    elif (teamATOratio[i] > 1.3):\n",
    "        ratings[i] += 10\n",
    "    elif (teamATOratio[i] > 1.2):\n",
    "        ratings[i] += 8\n",
    "    elif (teamATOratio[i] > 1.1):\n",
    "        ratings[i] += 6\n",
    "    elif (teamATOratio[i] > 1.0):\n",
    "        ratings[i] += 4\n",
    "    elif (teamATOratio[i] > 0.9):\n",
    "        ratings[i] += 2\n",
    "    elif (teamATOratio[i] > 0.8):\n",
    "        ratings[i] += 1        "
   ]
  },
  {
   "cell_type": "markdown",
   "metadata": {},
   "source": [
    "### Calculate Offensive Efficency\n",
    "#### Possessions = FGA - OR + T + (0.4 * FTA)"
   ]
  },
  {
   "cell_type": "code",
   "execution_count": 14,
   "metadata": {},
   "outputs": [],
   "source": [
    "teamPoss = dict()\n",
    "for i in range(len(LastSeason)):\n",
    "    if (LastSeason.WTeamID[i] in teamPoss):\n",
    "        teamPoss[LastSeason.WTeamID[i]] += (LastSeason.WFGA[i] - LastSeason.WOR[i] + LastSeason.WTO[i] + (0.4 * LastSeason.WFTA[i]))\n",
    "    else:\n",
    "        teamPoss[LastSeason.WTeamID[i]] = (LastSeason.WFGA[i] - LastSeason.WOR[i] + LastSeason.WTO[i] + (0.4 * LastSeason.WFTA[i]))\n",
    "    if (LastSeason.LTeamID[i] in teamPoss):\n",
    "        teamPoss[LastSeason.LTeamID[i]] += (LastSeason.LFGA[i] - LastSeason.LOR[i] + LastSeason.LTO[i] + (0.4 * LastSeason.LFTA[i]))\n",
    "    else:\n",
    "        teamPoss[LastSeason.LTeamID[i]] = (LastSeason.LFGA[i] - LastSeason.LOR[i] + LastSeason.LTO[i] + (0.4 * LastSeason.LFTA[i]))  "
   ]
  },
  {
   "cell_type": "code",
   "execution_count": 15,
   "metadata": {},
   "outputs": [],
   "source": [
    "teamPts = dict()\n",
    "for i in range(len(LastSeason)):\n",
    "    if (LastSeason.WTeamID[i] in teamPts):\n",
    "        teamPts[LastSeason.WTeamID[i]] += LastSeason.WScore[i]\n",
    "    else:\n",
    "        teamPts[LastSeason.WTeamID[i]] = LastSeason.WScore[i]\n",
    "    if (LastSeason.LTeamID[i] in teamPts):\n",
    "        teamPts[LastSeason.LTeamID[i]] += LastSeason.LScore[i]\n",
    "    else:\n",
    "        teamPts[LastSeason.LTeamID[i]] = LastSeason.LScore[i]"
   ]
  },
  {
   "cell_type": "code",
   "execution_count": 16,
   "metadata": {},
   "outputs": [],
   "source": [
    "teamOffEff = dict()\n",
    "for i in teamPts:\n",
    "    teamOffEff[i] = ((teamPts[i] / teamPoss[i]) * 100)"
   ]
  },
  {
   "cell_type": "markdown",
   "metadata": {},
   "source": [
    "### Determine ratings for offensive efficiency"
   ]
  },
  {
   "cell_type": "code",
   "execution_count": 17,
   "metadata": {},
   "outputs": [],
   "source": [
    "for i in teamOffEff:\n",
    "    if (teamOffEff[i] > 120):\n",
    "        ratings[i] += 20\n",
    "    elif (teamOffEff[i] > 115):\n",
    "        ratings[i] += 18\n",
    "    elif (teamOffEff[i] > 110):\n",
    "        ratings[i] += 13\n",
    "    elif (teamOffEff[i] > 105):\n",
    "        ratings[i] += 10\n",
    "    elif (teamOffEff[i] > 100):\n",
    "        ratings[i] += 7\n",
    "    elif (teamOffEff[i] > 95):\n",
    "        ratings[i] += 4\n",
    "    elif (teamOffEff[i] > 90):\n",
    "        ratings[i] += 2"
   ]
  },
  {
   "cell_type": "markdown",
   "metadata": {},
   "source": [
    "### Calculate Defensive Efficiency"
   ]
  },
  {
   "cell_type": "code",
   "execution_count": 18,
   "metadata": {},
   "outputs": [],
   "source": [
    "teamOppPoss = dict()\n",
    "for i in range(len(LastSeason)):\n",
    "    if (LastSeason.WTeamID[i] in teamOppPoss):\n",
    "        teamOppPoss[LastSeason.WTeamID[i]] += (LastSeason.LFGA[i] - LastSeason.LOR[i] + LastSeason.LTO[i] + (0.4 * LastSeason.LFTA[i]))\n",
    "    else:\n",
    "        teamOppPoss[LastSeason.WTeamID[i]] = (LastSeason.LFGA[i] - LastSeason.LOR[i] + LastSeason.LTO[i] + (0.4 * LastSeason.LFTA[i]))\n",
    "    if (LastSeason.LTeamID[i] in teamOppPoss):\n",
    "        teamOppPoss[LastSeason.LTeamID[i]] += (LastSeason.WFGA[i] - LastSeason.WOR[i] + LastSeason.WTO[i] + (0.4 * LastSeason.WFTA[i]))\n",
    "    else:\n",
    "        teamOppPoss[LastSeason.LTeamID[i]] = (LastSeason.WFGA[i] - LastSeason.WOR[i] + LastSeason.WTO[i] + (0.4 * LastSeason.WFTA[i]))  "
   ]
  },
  {
   "cell_type": "code",
   "execution_count": 19,
   "metadata": {},
   "outputs": [],
   "source": [
    "teamOppPts = dict()\n",
    "for i in range(len(LastSeason)):\n",
    "    if (LastSeason.WTeamID[i] in teamOppPts):\n",
    "        teamOppPts[LastSeason.WTeamID[i]] += LastSeason.LScore[i]\n",
    "    else:\n",
    "        teamOppPts[LastSeason.WTeamID[i]] = LastSeason.LScore[i]\n",
    "    if (LastSeason.LTeamID[i] in teamOppPts):\n",
    "        teamOppPts[LastSeason.LTeamID[i]] += LastSeason.WScore[i]\n",
    "    else:\n",
    "        teamOppPts[LastSeason.LTeamID[i]] = LastSeason.WScore[i]"
   ]
  },
  {
   "cell_type": "code",
   "execution_count": 20,
   "metadata": {},
   "outputs": [],
   "source": [
    "teamDefEff = dict()\n",
    "for i in teamOppPts:\n",
    "    teamDefEff[i] = ((teamOppPts[i] / teamOppPoss[i]) * 100)"
   ]
  },
  {
   "cell_type": "markdown",
   "metadata": {},
   "source": [
    "### Determine Ratings for each level of defensive efficiency"
   ]
  },
  {
   "cell_type": "code",
   "execution_count": 21,
   "metadata": {},
   "outputs": [],
   "source": [
    "for i in teamDefEff:\n",
    "    if (teamDefEff[i] < 95):\n",
    "        ratings[i] += 20\n",
    "    elif (teamDefEff[i] < 100):\n",
    "        ratings[i] += 15\n",
    "    elif (teamDefEff[i] < 105):\n",
    "        ratings[i] += 9\n",
    "    elif (teamDefEff[i] < 110):\n",
    "        ratings[i] += 5\n",
    "    elif (teamDefEff[i] < 115):\n",
    "        ratings[i] += 3\n",
    "    elif (teamDefEff[i] < 120):\n",
    "        ratings[i] += 1"
   ]
  },
  {
   "cell_type": "markdown",
   "metadata": {},
   "source": [
    "### Calculate defensive rebounding percentage"
   ]
  },
  {
   "cell_type": "code",
   "execution_count": 22,
   "metadata": {},
   "outputs": [],
   "source": [
    "teamDR = dict()\n",
    "for i in range(len(LastSeason)):\n",
    "    if (LastSeason.WTeamID[i] in teamDR):\n",
    "        teamDR[LastSeason.WTeamID[i]] += LastSeason.WDR[i]\n",
    "    else:\n",
    "        teamDR[LastSeason.WTeamID[i]] = LastSeason.WDR[i]\n",
    "    if (LastSeason.LTeamID[i] in teamDR):\n",
    "        teamDR[LastSeason.LTeamID[i]] += LastSeason.LDR[i]\n",
    "    else:\n",
    "        teamDR[LastSeason.LTeamID[i]] = LastSeason.LDR[i]"
   ]
  },
  {
   "cell_type": "code",
   "execution_count": 23,
   "metadata": {},
   "outputs": [],
   "source": [
    "teamOppDR = dict()\n",
    "for i in range(len(LastSeason)):\n",
    "    if (LastSeason.WTeamID[i] in teamOppDR):\n",
    "        teamOppDR[LastSeason.WTeamID[i]] += LastSeason.LDR[i]\n",
    "    else:\n",
    "        teamOppDR[LastSeason.WTeamID[i]] = LastSeason.LDR[i]\n",
    "    if (LastSeason.LTeamID[i] in teamOppDR):\n",
    "        teamOppDR[LastSeason.LTeamID[i]] += LastSeason.WDR[i]\n",
    "    else:\n",
    "        teamOppDR[LastSeason.LTeamID[i]] = LastSeason.WDR[i]"
   ]
  },
  {
   "cell_type": "code",
   "execution_count": 24,
   "metadata": {},
   "outputs": [],
   "source": [
    "teamDRpct = dict()\n",
    "for i in teamOppDR:\n",
    "    teamDRpct[i] = (teamDR[i] / (teamDR[i] + teamOppDR[i]))"
   ]
  },
  {
   "cell_type": "markdown",
   "metadata": {},
   "source": [
    "### Calculate Offensive Rebounding Percentage"
   ]
  },
  {
   "cell_type": "code",
   "execution_count": 25,
   "metadata": {},
   "outputs": [],
   "source": [
    "teamOR = dict()\n",
    "for i in range(len(LastSeason)):\n",
    "    if (LastSeason.WTeamID[i] in teamOR):\n",
    "        teamOR[LastSeason.WTeamID[i]] += LastSeason.WOR[i]\n",
    "    else:\n",
    "        teamOR[LastSeason.WTeamID[i]] = LastSeason.WOR[i]\n",
    "    if (LastSeason.LTeamID[i] in teamOR):\n",
    "        teamOR[LastSeason.LTeamID[i]] += LastSeason.LOR[i]\n",
    "    else:\n",
    "        teamOR[LastSeason.LTeamID[i]] = LastSeason.LOR[i]"
   ]
  },
  {
   "cell_type": "code",
   "execution_count": 26,
   "metadata": {},
   "outputs": [],
   "source": [
    "teamOppOR = dict()\n",
    "for i in range(len(LastSeason)):\n",
    "    if (LastSeason.WTeamID[i] in teamOppOR):\n",
    "        teamOppOR[LastSeason.WTeamID[i]] += LastSeason.LOR[i]\n",
    "    else:\n",
    "        teamOppOR[LastSeason.WTeamID[i]] = LastSeason.LOR[i]\n",
    "    if (LastSeason.LTeamID[i] in teamOppOR):\n",
    "        teamOppOR[LastSeason.LTeamID[i]] += LastSeason.WOR[i]\n",
    "    else:\n",
    "        teamOppOR[LastSeason.LTeamID[i]] = LastSeason.WOR[i]"
   ]
  },
  {
   "cell_type": "code",
   "execution_count": 27,
   "metadata": {},
   "outputs": [],
   "source": [
    "teamORpct = dict()\n",
    "for i in teamOppOR:\n",
    "    teamORpct[i] = (teamOR[i] / (teamOR[i] + teamOppOR[i]))"
   ]
  },
  {
   "cell_type": "markdown",
   "metadata": {},
   "source": [
    "### Give ratings for levels of each rebounding efficiency"
   ]
  },
  {
   "cell_type": "code",
   "execution_count": 28,
   "metadata": {},
   "outputs": [],
   "source": [
    "for i in teamDRpct:\n",
    "    if (teamDRpct[i] > 0.58):\n",
    "        ratings[i] += 10\n",
    "    elif (teamDRpct[i] > 0.56):\n",
    "        ratings[i] += 8\n",
    "    elif (teamDRpct[i] > 0.54):\n",
    "        ratings[i] += 6\n",
    "    elif (teamDRpct[i] > 0.51):\n",
    "        ratings[i] += 4\n",
    "    elif (teamDRpct[i] > 0.48):\n",
    "        ratings[i] += 2\n",
    "    elif (teamDRpct[i] > 0.45):\n",
    "        ratings[i] += 1  "
   ]
  },
  {
   "cell_type": "code",
   "execution_count": 29,
   "metadata": {},
   "outputs": [],
   "source": [
    "for i in teamORpct:\n",
    "    if (teamORpct[i] > 0.6):\n",
    "        ratings[i] += 8\n",
    "    elif (teamORpct[i] > 0.57):\n",
    "        ratings[i] += 7\n",
    "    elif (teamORpct[i] > 0.54):\n",
    "        ratings[i] += 5\n",
    "    elif (teamORpct[i] > 0.52):\n",
    "        ratings[i] += 4\n",
    "    elif (teamORpct[i] > 0.50):\n",
    "        ratings[i] += 3\n",
    "    elif (teamORpct[i] > 0.47):\n",
    "        ratings[i] += 2  \n",
    "    elif (teamORpct[i] > 0.44):\n",
    "        ratings[i] += 1"
   ]
  },
  {
   "cell_type": "markdown",
   "metadata": {},
   "source": [
    "### Look at conferences for each team -- slightly different for the women's bracket because the conferences data set was only for men's teams. I had to find the men's teams and then set the school's women's team to the same conference"
   ]
  },
  {
   "cell_type": "code",
   "execution_count": 30,
   "metadata": {},
   "outputs": [],
   "source": [
    "conf = dict()\n",
    "for i in confTourney.index:\n",
    "    if (confTourney.WTeamID[i] not in conf):\n",
    "        conf[confTourney.WTeamID[i]] = confTourney.ConfAbbrev[i]\n",
    "    else:\n",
    "        continue\n",
    "    if (confTourney.LTeamID[i] not in conf):\n",
    "        conf[confTourney.LTeamID[i]] = confTourney.ConfAbbrev[i]\n",
    "    else:\n",
    "        continue    "
   ]
  },
  {
   "cell_type": "code",
   "execution_count": 31,
   "metadata": {},
   "outputs": [
    {
     "name": "stderr",
     "output_type": "stream",
     "text": [
      "c:\\users\\brand\\anaconda3\\lib\\site-packages\\ipykernel_launcher.py:5: SettingWithCopyWarning: \n",
      "A value is trying to be set on a copy of a slice from a DataFrame\n",
      "\n",
      "See the caveats in the documentation: http://pandas.pydata.org/pandas-docs/stable/indexing.html#indexing-view-versus-copy\n",
      "  \"\"\"\n"
     ]
    }
   ],
   "source": [
    "teams['conference'] = pd.Series('', index = teams.index)\n",
    "for i in conf.keys():\n",
    "    x = menTeams.TeamName[menTeams.TeamID == i]\n",
    "    ind = x.index\n",
    "    teams['conference'][ind] = conf[i]"
   ]
  },
  {
   "cell_type": "markdown",
   "metadata": {},
   "source": [
    "### Look at ratings and compare to teams"
   ]
  },
  {
   "cell_type": "code",
   "execution_count": 32,
   "metadata": {},
   "outputs": [],
   "source": [
    "teamRatings = pd.DataFrame.from_dict(ratings, orient = 'index')\n",
    "teamRatings['Name'] = ''"
   ]
  },
  {
   "cell_type": "code",
   "execution_count": 33,
   "metadata": {},
   "outputs": [
    {
     "name": "stderr",
     "output_type": "stream",
     "text": [
      "c:\\users\\brand\\anaconda3\\lib\\site-packages\\ipykernel_launcher.py:4: SettingWithCopyWarning: \n",
      "A value is trying to be set on a copy of a slice from a DataFrame\n",
      "\n",
      "See the caveats in the documentation: http://pandas.pydata.org/pandas-docs/stable/indexing.html#indexing-view-versus-copy\n",
      "  after removing the cwd from sys.path.\n"
     ]
    }
   ],
   "source": [
    "for i in teamRatings.index:\n",
    "    for j in range(len(teams)):\n",
    "        if (teams.TeamID[j] == i):\n",
    "            teamRatings['Name'][i] = teams.TeamName[j]"
   ]
  },
  {
   "cell_type": "code",
   "execution_count": 35,
   "metadata": {},
   "outputs": [],
   "source": [
    "teamRatings.rename(columns = {0:'Rating'}, inplace = True)"
   ]
  },
  {
   "cell_type": "code",
   "execution_count": 36,
   "metadata": {},
   "outputs": [],
   "source": [
    "teamRatings.sort_values(by=['Rating'], ascending = False, inplace = True)"
   ]
  },
  {
   "cell_type": "markdown",
   "metadata": {},
   "source": [
    "### Top 30 Teams"
   ]
  },
  {
   "cell_type": "code",
   "execution_count": 38,
   "metadata": {},
   "outputs": [
    {
     "data": {
      "text/html": [
       "<div>\n",
       "<style scoped>\n",
       "    .dataframe tbody tr th:only-of-type {\n",
       "        vertical-align: middle;\n",
       "    }\n",
       "\n",
       "    .dataframe tbody tr th {\n",
       "        vertical-align: top;\n",
       "    }\n",
       "\n",
       "    .dataframe thead th {\n",
       "        text-align: right;\n",
       "    }\n",
       "</style>\n",
       "<table border=\"1\" class=\"dataframe\">\n",
       "  <thead>\n",
       "    <tr style=\"text-align: right;\">\n",
       "      <th></th>\n",
       "      <th>Rating</th>\n",
       "      <th>Name</th>\n",
       "    </tr>\n",
       "  </thead>\n",
       "  <tbody>\n",
       "    <tr>\n",
       "      <th>3280</th>\n",
       "      <td>66</td>\n",
       "      <td>Mississippi St</td>\n",
       "    </tr>\n",
       "    <tr>\n",
       "      <th>3124</th>\n",
       "      <td>65</td>\n",
       "      <td>Baylor</td>\n",
       "    </tr>\n",
       "    <tr>\n",
       "      <th>3332</th>\n",
       "      <td>65</td>\n",
       "      <td>Oregon</td>\n",
       "    </tr>\n",
       "    <tr>\n",
       "      <th>3323</th>\n",
       "      <td>64</td>\n",
       "      <td>Notre Dame</td>\n",
       "    </tr>\n",
       "    <tr>\n",
       "      <th>3163</th>\n",
       "      <td>63</td>\n",
       "      <td>Connecticut</td>\n",
       "    </tr>\n",
       "    <tr>\n",
       "      <th>3355</th>\n",
       "      <td>61</td>\n",
       "      <td>S Dakota St</td>\n",
       "    </tr>\n",
       "    <tr>\n",
       "      <th>3333</th>\n",
       "      <td>55</td>\n",
       "      <td>Oregon St</td>\n",
       "    </tr>\n",
       "    <tr>\n",
       "      <th>3234</th>\n",
       "      <td>54</td>\n",
       "      <td>Iowa</td>\n",
       "    </tr>\n",
       "    <tr>\n",
       "      <th>3266</th>\n",
       "      <td>54</td>\n",
       "      <td>Marquette</td>\n",
       "    </tr>\n",
       "    <tr>\n",
       "      <th>3141</th>\n",
       "      <td>53</td>\n",
       "      <td>C Michigan</td>\n",
       "    </tr>\n",
       "    <tr>\n",
       "      <th>3125</th>\n",
       "      <td>50</td>\n",
       "      <td>Belmont</td>\n",
       "    </tr>\n",
       "    <tr>\n",
       "      <th>3257</th>\n",
       "      <td>49</td>\n",
       "      <td>Louisville</td>\n",
       "    </tr>\n",
       "    <tr>\n",
       "      <th>3412</th>\n",
       "      <td>49</td>\n",
       "      <td>UAB</td>\n",
       "    </tr>\n",
       "    <tr>\n",
       "      <th>3263</th>\n",
       "      <td>48</td>\n",
       "      <td>Maine</td>\n",
       "    </tr>\n",
       "    <tr>\n",
       "      <th>3113</th>\n",
       "      <td>47</td>\n",
       "      <td>Arizona St</td>\n",
       "    </tr>\n",
       "    <tr>\n",
       "      <th>3428</th>\n",
       "      <td>47</td>\n",
       "      <td>Utah</td>\n",
       "    </tr>\n",
       "    <tr>\n",
       "      <th>3179</th>\n",
       "      <td>46</td>\n",
       "      <td>Drake</td>\n",
       "    </tr>\n",
       "    <tr>\n",
       "      <th>3268</th>\n",
       "      <td>46</td>\n",
       "      <td>Maryland</td>\n",
       "    </tr>\n",
       "    <tr>\n",
       "      <th>3377</th>\n",
       "      <td>46</td>\n",
       "      <td>South Dakota</td>\n",
       "    </tr>\n",
       "    <tr>\n",
       "      <th>3301</th>\n",
       "      <td>46</td>\n",
       "      <td>NC State</td>\n",
       "    </tr>\n",
       "    <tr>\n",
       "      <th>3390</th>\n",
       "      <td>46</td>\n",
       "      <td>Stanford</td>\n",
       "    </tr>\n",
       "    <tr>\n",
       "      <th>3392</th>\n",
       "      <td>44</td>\n",
       "      <td>Stony Brook</td>\n",
       "    </tr>\n",
       "    <tr>\n",
       "      <th>3195</th>\n",
       "      <td>44</td>\n",
       "      <td>FL Gulf Coast</td>\n",
       "    </tr>\n",
       "    <tr>\n",
       "      <th>3211</th>\n",
       "      <td>44</td>\n",
       "      <td>Gonzaga</td>\n",
       "    </tr>\n",
       "    <tr>\n",
       "      <th>3177</th>\n",
       "      <td>44</td>\n",
       "      <td>DePaul</td>\n",
       "    </tr>\n",
       "    <tr>\n",
       "      <th>3461</th>\n",
       "      <td>44</td>\n",
       "      <td>Wyoming</td>\n",
       "    </tr>\n",
       "    <tr>\n",
       "      <th>3349</th>\n",
       "      <td>43</td>\n",
       "      <td>Rice</td>\n",
       "    </tr>\n",
       "    <tr>\n",
       "      <th>3335</th>\n",
       "      <td>43</td>\n",
       "      <td>Penn</td>\n",
       "    </tr>\n",
       "    <tr>\n",
       "      <th>3235</th>\n",
       "      <td>43</td>\n",
       "      <td>Iowa St</td>\n",
       "    </tr>\n",
       "    <tr>\n",
       "      <th>3274</th>\n",
       "      <td>43</td>\n",
       "      <td>Miami FL</td>\n",
       "    </tr>\n",
       "  </tbody>\n",
       "</table>\n",
       "</div>"
      ],
      "text/plain": [
       "      Rating            Name\n",
       "3280      66  Mississippi St\n",
       "3124      65          Baylor\n",
       "3332      65          Oregon\n",
       "3323      64      Notre Dame\n",
       "3163      63     Connecticut\n",
       "3355      61     S Dakota St\n",
       "3333      55       Oregon St\n",
       "3234      54            Iowa\n",
       "3266      54       Marquette\n",
       "3141      53      C Michigan\n",
       "3125      50         Belmont\n",
       "3257      49      Louisville\n",
       "3412      49             UAB\n",
       "3263      48           Maine\n",
       "3113      47      Arizona St\n",
       "3428      47            Utah\n",
       "3179      46           Drake\n",
       "3268      46        Maryland\n",
       "3377      46    South Dakota\n",
       "3301      46        NC State\n",
       "3390      46        Stanford\n",
       "3392      44     Stony Brook\n",
       "3195      44   FL Gulf Coast\n",
       "3211      44         Gonzaga\n",
       "3177      44          DePaul\n",
       "3461      44         Wyoming\n",
       "3349      43            Rice\n",
       "3335      43            Penn\n",
       "3235      43         Iowa St\n",
       "3274      43        Miami FL"
      ]
     },
     "execution_count": 38,
     "metadata": {},
     "output_type": "execute_result"
    }
   ],
   "source": [
    "teamRatings[:30]"
   ]
  },
  {
   "cell_type": "code",
   "execution_count": 39,
   "metadata": {},
   "outputs": [
    {
     "data": {
      "text/html": [
       "<div>\n",
       "<style scoped>\n",
       "    .dataframe tbody tr th:only-of-type {\n",
       "        vertical-align: middle;\n",
       "    }\n",
       "\n",
       "    .dataframe tbody tr th {\n",
       "        vertical-align: top;\n",
       "    }\n",
       "\n",
       "    .dataframe thead th {\n",
       "        text-align: right;\n",
       "    }\n",
       "</style>\n",
       "<table border=\"1\" class=\"dataframe\">\n",
       "  <thead>\n",
       "    <tr style=\"text-align: right;\">\n",
       "      <th></th>\n",
       "      <th>Rating</th>\n",
       "      <th>Name</th>\n",
       "    </tr>\n",
       "  </thead>\n",
       "  <tbody>\n",
       "  </tbody>\n",
       "</table>\n",
       "</div>"
      ],
      "text/plain": [
       "Empty DataFrame\n",
       "Columns: [Rating, Name]\n",
       "Index: []"
      ]
     },
     "execution_count": 39,
     "metadata": {},
     "output_type": "execute_result"
    }
   ],
   "source": [
    "teamRatings[teamRatings.Name == 'Miami Fl']"
   ]
  },
  {
   "cell_type": "code",
   "execution_count": 40,
   "metadata": {},
   "outputs": [
    {
     "data": {
      "text/html": [
       "<div>\n",
       "<style scoped>\n",
       "    .dataframe tbody tr th:only-of-type {\n",
       "        vertical-align: middle;\n",
       "    }\n",
       "\n",
       "    .dataframe tbody tr th {\n",
       "        vertical-align: top;\n",
       "    }\n",
       "\n",
       "    .dataframe thead th {\n",
       "        text-align: right;\n",
       "    }\n",
       "</style>\n",
       "<table border=\"1\" class=\"dataframe\">\n",
       "  <thead>\n",
       "    <tr style=\"text-align: right;\">\n",
       "      <th></th>\n",
       "      <th>Rating</th>\n",
       "      <th>Name</th>\n",
       "    </tr>\n",
       "  </thead>\n",
       "  <tbody>\n",
       "    <tr>\n",
       "      <th>3396</th>\n",
       "      <td>28</td>\n",
       "      <td>Temple</td>\n",
       "    </tr>\n",
       "  </tbody>\n",
       "</table>\n",
       "</div>"
      ],
      "text/plain": [
       "      Rating    Name\n",
       "3396      28  Temple"
      ]
     },
     "execution_count": 40,
     "metadata": {},
     "output_type": "execute_result"
    }
   ],
   "source": [
    "teamRatings[teamRatings.Name.str.contains(\"Tem\")]"
   ]
  }
 ],
 "metadata": {
  "kernelspec": {
   "display_name": "Python 3",
   "language": "python",
   "name": "python3"
  },
  "language_info": {
   "codemirror_mode": {
    "name": "ipython",
    "version": 3
   },
   "file_extension": ".py",
   "mimetype": "text/x-python",
   "name": "python",
   "nbconvert_exporter": "python",
   "pygments_lexer": "ipython3",
   "version": "3.6.4"
  }
 },
 "nbformat": 4,
 "nbformat_minor": 2
}
