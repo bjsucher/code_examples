{
 "cells": [
  {
   "cell_type": "code",
   "execution_count": 307,
   "metadata": {},
   "outputs": [],
   "source": [
    "import pandas as pd"
   ]
  },
  {
   "cell_type": "code",
   "execution_count": 308,
   "metadata": {},
   "outputs": [],
   "source": [
    "seeds = pd.read_csv('WNCAATourneySeeds.csv')\n",
    "# seeds.head()\n",
    "teams = pd.read_csv('WTeams.csv')\n",
    "menTeams = pd.read_csv('Teams.csv')\n",
    "regSeason = pd.read_csv('WRegularSeasonCompactResults.csv')\n",
    "regSeasonDetailed = pd.read_csv('WRegularSeasonDetailedResults.csv')\n",
    "tourneyResults = pd.read_csv('WNCAATourneyCompactResults.csv')\n",
    "conferences = pd.read_csv('Conferences.csv')\n",
    "confTourney = pd.read_csv('ConferenceTourneyGames.csv')"
   ]
  },
  {
   "cell_type": "code",
   "execution_count": 309,
   "metadata": {},
   "outputs": [],
   "source": [
    "LastSeason = regSeasonDetailed[regSeasonDetailed.Season == 2019]"
   ]
  },
  {
   "cell_type": "code",
   "execution_count": 310,
   "metadata": {},
   "outputs": [
    {
     "name": "stdout",
     "output_type": "stream",
     "text": [
      "<class 'pandas.core.frame.DataFrame'>\n",
      "Int64Index: 5240 entries, 46342 to 51581\n",
      "Data columns (total 34 columns):\n",
      "Season     5240 non-null int64\n",
      "DayNum     5240 non-null int64\n",
      "WTeamID    5240 non-null int64\n",
      "WScore     5240 non-null int64\n",
      "LTeamID    5240 non-null int64\n",
      "LScore     5240 non-null int64\n",
      "WLoc       5240 non-null object\n",
      "NumOT      5240 non-null int64\n",
      "WFGM       5240 non-null int64\n",
      "WFGA       5240 non-null int64\n",
      "WFGM3      5240 non-null int64\n",
      "WFGA3      5240 non-null int64\n",
      "WFTM       5240 non-null int64\n",
      "WFTA       5240 non-null int64\n",
      "WOR        5240 non-null int64\n",
      "WDR        5240 non-null int64\n",
      "WAst       5240 non-null int64\n",
      "WTO        5240 non-null int64\n",
      "WStl       5240 non-null int64\n",
      "WBlk       5240 non-null int64\n",
      "WPF        5240 non-null int64\n",
      "LFGM       5240 non-null int64\n",
      "LFGA       5240 non-null int64\n",
      "LFGM3      5240 non-null int64\n",
      "LFGA3      5240 non-null int64\n",
      "LFTM       5240 non-null int64\n",
      "LFTA       5240 non-null int64\n",
      "LOR        5240 non-null int64\n",
      "LDR        5240 non-null int64\n",
      "LAst       5240 non-null int64\n",
      "LTO        5240 non-null int64\n",
      "LStl       5240 non-null int64\n",
      "LBlk       5240 non-null int64\n",
      "LPF        5240 non-null int64\n",
      "dtypes: int64(33), object(1)\n",
      "memory usage: 1.4+ MB\n"
     ]
    }
   ],
   "source": [
    "LastSeason.info()"
   ]
  },
  {
   "cell_type": "code",
   "execution_count": 311,
   "metadata": {},
   "outputs": [],
   "source": [
    "LastSeason.reset_index(inplace = True)\n",
    "# print(LastSeason.head())"
   ]
  },
  {
   "cell_type": "markdown",
   "metadata": {},
   "source": [
    "### Set up ratings dictionary"
   ]
  },
  {
   "cell_type": "code",
   "execution_count": 312,
   "metadata": {},
   "outputs": [],
   "source": [
    "ratings = dict()\n",
    "for i in range(len(LastSeason)):\n",
    "    if (LastSeason.WTeamID[i] not in ratings):\n",
    "        ratings[LastSeason.WTeamID[i]] = 0"
   ]
  },
  {
   "cell_type": "code",
   "execution_count": 313,
   "metadata": {},
   "outputs": [],
   "source": [
    "ratings[3152] = 0\n",
    "ratings[3105] = 0"
   ]
  },
  {
   "cell_type": "markdown",
   "metadata": {},
   "source": [
    "### Calculate assist - turnover ratio"
   ]
  },
  {
   "cell_type": "code",
   "execution_count": 314,
   "metadata": {},
   "outputs": [],
   "source": [
    "teamAst = dict()\n",
    "for i in range(len(LastSeason)):\n",
    "    if (LastSeason.WTeamID[i] in teamAst):\n",
    "        teamAst[LastSeason.WTeamID[i]] += LastSeason.WAst[i]\n",
    "    else:\n",
    "        teamAst[LastSeason.WTeamID[i]] = LastSeason.WAst[i]\n",
    "    if (LastSeason.LTeamID[i] in teamAst):\n",
    "        teamAst[LastSeason.LTeamID[i]] += LastSeason.LAst[i]\n",
    "    else:\n",
    "        teamAst[LastSeason.LTeamID[i]] = LastSeason.LAst[i]        "
   ]
  },
  {
   "cell_type": "code",
   "execution_count": 315,
   "metadata": {},
   "outputs": [],
   "source": [
    "teamTO = dict()\n",
    "for i in range(len(LastSeason)):\n",
    "    if (LastSeason.WTeamID[i] in teamTO):\n",
    "        teamTO[LastSeason.WTeamID[i]] += LastSeason.WTO[i]\n",
    "    else:\n",
    "        teamTO[LastSeason.WTeamID[i]] = LastSeason.WTO[i]\n",
    "    if (LastSeason.LTeamID[i] in teamTO):\n",
    "        teamTO[LastSeason.LTeamID[i]] += LastSeason.LTO[i]\n",
    "    else:\n",
    "        teamTO[LastSeason.LTeamID[i]] = LastSeason.LTO[i]  "
   ]
  },
  {
   "cell_type": "code",
   "execution_count": 316,
   "metadata": {},
   "outputs": [],
   "source": [
    "teamGames = dict()\n",
    "for i in range(len(LastSeason)):\n",
    "    if (LastSeason.WTeamID[i] in teamGames):\n",
    "        teamGames[LastSeason.WTeamID[i]] += 1\n",
    "    else:\n",
    "        teamGames[LastSeason.WTeamID[i]] = 1\n",
    "    if (LastSeason.LTeamID[i] in teamGames):\n",
    "        teamGames[LastSeason.LTeamID[i]] += 1\n",
    "    else:\n",
    "        teamGames[LastSeason.LTeamID[i]] = 1"
   ]
  },
  {
   "cell_type": "code",
   "execution_count": 317,
   "metadata": {},
   "outputs": [],
   "source": [
    "teamATOratio = dict()\n",
    "for i in teamGames:\n",
    "    teamATOratio[i] = ((teamAst[i] / teamGames[i]) / (teamTO[i] / teamGames[i])) "
   ]
  },
  {
   "cell_type": "markdown",
   "metadata": {},
   "source": [
    "### Give rankings to different leves of Assist-Turnover Ratio"
   ]
  },
  {
   "cell_type": "code",
   "execution_count": 318,
   "metadata": {},
   "outputs": [
    {
     "name": "stdout",
     "output_type": "stream",
     "text": [
      "0.9260204081632653\n",
      "0.9\n",
      "0.7698924731182796\n",
      "0.7312614259597806\n",
      "1.057494866529774\n",
      "1.1650485436893203\n",
      "0.7198581560283688\n",
      "1.0799086757990868\n",
      "0.8657894736842106\n",
      "0.7995642701525053\n",
      "0.9359267734553776\n",
      "1.037037037037037\n",
      "0.8506224066390041\n",
      "0.7084148727984344\n",
      "0.7427385892116183\n",
      "0.8481308411214954\n",
      "0.9452380952380952\n",
      "0.8810916179337231\n",
      "0.7841140529531568\n",
      "0.7845804988662132\n",
      "0.8626943005181348\n",
      "0.7095652173913044\n",
      "0.968944099378882\n",
      "0.9335038363171355\n",
      "0.949367088607595\n",
      "0.9662698412698413\n",
      "1.0490654205607477\n",
      "0.7382413087934561\n",
      "0.8658008658008658\n",
      "0.9118329466357309\n",
      "0.9781746031746031\n",
      "0.8219696969696969\n",
      "0.7264150943396226\n",
      "0.7163375224416517\n",
      "0.8632958801498126\n",
      "0.778523489932886\n",
      "1.1531322505800463\n",
      "0.9300847457627118\n",
      "1.0581113801452784\n",
      "1.151133501259446\n",
      "1.0984455958549222\n",
      "0.9168646080760096\n",
      "1.1323943661971831\n",
      "0.8685968819599109\n",
      "1.094688221709007\n",
      "0.860125260960334\n",
      "0.8422131147540983\n",
      "0.7148014440433214\n",
      "1.078556263269639\n",
      "0.7327102803738318\n",
      "0.7718631178707224\n",
      "0.7356076759061834\n",
      "1.0773694390715667\n",
      "1.0220264317180616\n",
      "1.0223713646532437\n",
      "0.8095238095238095\n",
      "1.051685393258427\n",
      "0.7884615384615384\n",
      "0.8119658119658119\n",
      "0.8325892857142857\n",
      "1.1354166666666665\n",
      "0.9939148073022313\n",
      "1.0155902004454342\n",
      "1.0796019900497513\n",
      "0.7221006564551421\n",
      "0.7549234135667396\n",
      "0.759765625\n",
      "0.8909774436090226\n",
      "0.890380313199105\n",
      "0.9008810572687225\n",
      "1.0335195530726256\n",
      "0.728813559322034\n",
      "0.7932584269662921\n",
      "0.9316628701594534\n",
      "1.0687960687960687\n",
      "0.812\n",
      "0.8759124087591241\n",
      "0.8679245283018868\n",
      "1.1862917398945518\n",
      "1.0488888888888888\n",
      "0.7413333333333333\n",
      "1.1854460093896713\n",
      "1.0402010050251258\n",
      "0.781443298969072\n",
      "1.0316027088036117\n",
      "1.1757425742574257\n",
      "0.7240704500978473\n",
      "1.0432569974554706\n",
      "0.7054945054945054\n",
      "0.7914110429447853\n",
      "0.9930232558139533\n",
      "0.8870588235294118\n",
      "0.7582417582417582\n",
      "0.8361344537815125\n",
      "1.0073349633251834\n",
      "0.7167019027484144\n",
      "0.7176470588235294\n",
      "1.0527522935779816\n",
      "0.9820717131474103\n",
      "0.9671361502347419\n",
      "1.0821256038647342\n",
      "1.0970654627539502\n",
      "0.7785388127853882\n",
      "0.8679999999999999\n",
      "1.180952380952381\n",
      "1.1779448621553883\n",
      "0.8315334773218143\n",
      "0.965665236051502\n",
      "0.7258382642998028\n",
      "0.7638640429338104\n",
      "0.7064777327935223\n",
      "0.7884231536926147\n",
      "1.124121779859485\n",
      "0.8927911275415896\n",
      "0.7263581488933601\n",
      "0.8416289592760182\n",
      "0.8696682464454976\n",
      "0.8271889400921659\n",
      "0.9176201372997712\n",
      "0.8886198547215495\n",
      "0.7794117647058824\n",
      "0.8521400778210116\n",
      "0.877906976744186\n",
      "0.8596491228070176\n",
      "0.8244575936883629\n",
      "0.9290060851926978\n",
      "1.1418604651162791\n",
      "0.948780487804878\n",
      "1.0093023255813953\n",
      "0.841304347826087\n",
      "0.9923076923076923\n",
      "0.7387755102040816\n",
      "0.7648401826484018\n",
      "0.7095158597662771\n",
      "0.7613882863340564\n",
      "0.8169291338582677\n",
      "0.7838479809976246\n",
      "1.1168224299065421\n",
      "0.8804878048780488\n",
      "0.860411899313501\n",
      "0.8387096774193548\n",
      "1.019522776572668\n",
      "0.888663967611336\n",
      "0.828162291169451\n",
      "1.153846153846154\n",
      "1.004158004158004\n",
      "0.7416481069042317\n",
      "0.8624754420432221\n",
      "0.7115749525616698\n",
      "0.946153846153846\n",
      "1.1428571428571428\n",
      "0.8787234042553193\n",
      "0.7546296296296297\n",
      "0.9357798165137614\n",
      "1.0933062880324544\n",
      "0.954\n",
      "1.0835443037974684\n",
      "0.9346153846153846\n",
      "0.7426900584795321\n",
      "0.8507462686567165\n",
      "0.7148936170212765\n",
      "0.995575221238938\n",
      "0.9476309226932669\n",
      "0.9833679833679834\n",
      "0.8352941176470589\n",
      "0.892925430210325\n",
      "0.7270693512304252\n",
      "0.802\n",
      "0.8252032520325203\n",
      "1.072941176470588\n",
      "0.7212020033388983\n",
      "1.082294264339152\n",
      "0.7465069860279442\n",
      "1.119700748129676\n",
      "1.105145413870246\n",
      "0.7996070726915521\n",
      "0.7092592592592594\n",
      "0.822680412371134\n",
      "0.745318352059925\n",
      "0.989821882951654\n",
      "0.8514412416851441\n",
      "0.9306049822064058\n",
      "0.847255369928401\n",
      "0.8786764705882354\n",
      "0.9891304347826086\n",
      "0.7586206896551724\n",
      "0.8205645161290323\n",
      "0.9174528301886792\n",
      "0.8333333333333334\n",
      "1.081720430107527\n",
      "1.127717391304348\n",
      "0.7982456140350878\n",
      "0.9217391304347825\n",
      "0.9305816135084429\n",
      "0.7334754797441363\n",
      "1.1880733944954127\n",
      "0.8215686274509802\n",
      "0.8967032967032967\n",
      "0.9584199584199584\n",
      "0.7919463087248322\n",
      "0.9104803493449781\n",
      "0.8227272727272728\n",
      "0.7247706422018348\n",
      "0.8489361702127659\n",
      "1.1530172413793103\n",
      "0.7133891213389122\n",
      "0.7936842105263158\n",
      "1.062052505966587\n",
      "0.821256038647343\n",
      "1.0368550368550369\n",
      "1.1684901531728666\n",
      "0.9632352941176471\n",
      "0.750499001996008\n",
      "0.8864097363083165\n",
      "0.8393285371702638\n",
      "0.9279069767441861\n",
      "0.8630705394190872\n",
      "0.7417840375586855\n",
      "0.824634655532359\n",
      "0.8269720101781171\n",
      "0.9308641975308642\n",
      "0.948849104859335\n",
      "0.770053475935829\n",
      "0.8014440433212996\n",
      "0.7509157509157509\n",
      "0.7113402061855669\n",
      "0.903921568627451\n"
     ]
    }
   ],
   "source": [
    "for i in teamATOratio:\n",
    "    if ((teamATOratio[i] > 0.7) and (teamATOratio[i] < 1.2)):\n",
    "        print(teamATOratio[i])"
   ]
  },
  {
   "cell_type": "code",
   "execution_count": 319,
   "metadata": {},
   "outputs": [],
   "source": [
    "for i in teamATOratio:\n",
    "    if (teamATOratio[i] > 1.5):\n",
    "        ratings[i] += 15\n",
    "    elif (teamATOratio[i] > 1.4):\n",
    "        ratings[i] += 13\n",
    "    elif (teamATOratio[i] > 1.3):\n",
    "        ratings[i] += 10\n",
    "    elif (teamATOratio[i] > 1.2):\n",
    "        ratings[i] += 8\n",
    "    elif (teamATOratio[i] > 1.1):\n",
    "        ratings[i] += 6\n",
    "    elif (teamATOratio[i] > 1.0):\n",
    "        ratings[i] += 4\n",
    "    elif (teamATOratio[i] > 0.9):\n",
    "        ratings[i] += 2\n",
    "    elif (teamATOratio[i] > 0.8):\n",
    "        ratings[i] += 1        "
   ]
  },
  {
   "cell_type": "markdown",
   "metadata": {},
   "source": [
    "### Calculate Offensive Efficency\n",
    "#### Possessions = FGA - OR + T + (0.4 * FTA)"
   ]
  },
  {
   "cell_type": "code",
   "execution_count": 320,
   "metadata": {},
   "outputs": [],
   "source": [
    "teamPoss = dict()\n",
    "for i in range(len(LastSeason)):\n",
    "    if (LastSeason.WTeamID[i] in teamPoss):\n",
    "        teamPoss[LastSeason.WTeamID[i]] += (LastSeason.WFGA[i] - LastSeason.WOR[i] + LastSeason.WTO[i] + (0.4 * LastSeason.WFTA[i]))\n",
    "    else:\n",
    "        teamPoss[LastSeason.WTeamID[i]] = (LastSeason.WFGA[i] - LastSeason.WOR[i] + LastSeason.WTO[i] + (0.4 * LastSeason.WFTA[i]))\n",
    "    if (LastSeason.LTeamID[i] in teamPoss):\n",
    "        teamPoss[LastSeason.LTeamID[i]] += (LastSeason.LFGA[i] - LastSeason.LOR[i] + LastSeason.LTO[i] + (0.4 * LastSeason.LFTA[i]))\n",
    "    else:\n",
    "        teamPoss[LastSeason.LTeamID[i]] = (LastSeason.LFGA[i] - LastSeason.LOR[i] + LastSeason.LTO[i] + (0.4 * LastSeason.LFTA[i]))  "
   ]
  },
  {
   "cell_type": "code",
   "execution_count": 321,
   "metadata": {},
   "outputs": [],
   "source": [
    "teamPts = dict()\n",
    "for i in range(len(LastSeason)):\n",
    "    if (LastSeason.WTeamID[i] in teamPts):\n",
    "        teamPts[LastSeason.WTeamID[i]] += LastSeason.WScore[i]\n",
    "    else:\n",
    "        teamPts[LastSeason.WTeamID[i]] = LastSeason.WScore[i]\n",
    "    if (LastSeason.LTeamID[i] in teamPts):\n",
    "        teamPts[LastSeason.LTeamID[i]] += LastSeason.LScore[i]\n",
    "    else:\n",
    "        teamPts[LastSeason.LTeamID[i]] = LastSeason.LScore[i]"
   ]
  },
  {
   "cell_type": "code",
   "execution_count": 322,
   "metadata": {},
   "outputs": [],
   "source": [
    "teamOffEff = dict()\n",
    "for i in teamPts:\n",
    "    teamOffEff[i] = ((teamPts[i] / teamPoss[i]) * 100)"
   ]
  },
  {
   "cell_type": "markdown",
   "metadata": {},
   "source": [
    "### Determine ratings for offensive efficiency"
   ]
  },
  {
   "cell_type": "code",
   "execution_count": 323,
   "metadata": {},
   "outputs": [],
   "source": [
    "for i in teamOffEff:\n",
    "    if (teamOffEff[i] > 120):\n",
    "        ratings[i] += 20\n",
    "    elif (teamOffEff[i] > 115):\n",
    "        ratings[i] += 18\n",
    "    elif (teamOffEff[i] > 110):\n",
    "        ratings[i] += 13\n",
    "    elif (teamOffEff[i] > 105):\n",
    "        ratings[i] += 10\n",
    "    elif (teamOffEff[i] > 100):\n",
    "        ratings[i] += 7\n",
    "    elif (teamOffEff[i] > 95):\n",
    "        ratings[i] += 4\n",
    "    elif (teamOffEff[i] > 90):\n",
    "        ratings[i] += 2"
   ]
  },
  {
   "cell_type": "markdown",
   "metadata": {},
   "source": [
    "### Calculate Defensive Efficiency"
   ]
  },
  {
   "cell_type": "code",
   "execution_count": 324,
   "metadata": {},
   "outputs": [],
   "source": [
    "teamOppPoss = dict()\n",
    "for i in range(len(LastSeason)):\n",
    "    if (LastSeason.WTeamID[i] in teamOppPoss):\n",
    "        teamOppPoss[LastSeason.WTeamID[i]] += (LastSeason.LFGA[i] - LastSeason.LOR[i] + LastSeason.LTO[i] + (0.4 * LastSeason.LFTA[i]))\n",
    "    else:\n",
    "        teamOppPoss[LastSeason.WTeamID[i]] = (LastSeason.LFGA[i] - LastSeason.LOR[i] + LastSeason.LTO[i] + (0.4 * LastSeason.LFTA[i]))\n",
    "    if (LastSeason.LTeamID[i] in teamOppPoss):\n",
    "        teamOppPoss[LastSeason.LTeamID[i]] += (LastSeason.WFGA[i] - LastSeason.WOR[i] + LastSeason.WTO[i] + (0.4 * LastSeason.WFTA[i]))\n",
    "    else:\n",
    "        teamOppPoss[LastSeason.LTeamID[i]] = (LastSeason.WFGA[i] - LastSeason.WOR[i] + LastSeason.WTO[i] + (0.4 * LastSeason.WFTA[i]))  "
   ]
  },
  {
   "cell_type": "code",
   "execution_count": 325,
   "metadata": {},
   "outputs": [],
   "source": [
    "teamOppPts = dict()\n",
    "for i in range(len(LastSeason)):\n",
    "    if (LastSeason.WTeamID[i] in teamOppPts):\n",
    "        teamOppPts[LastSeason.WTeamID[i]] += LastSeason.LScore[i]\n",
    "    else:\n",
    "        teamOppPts[LastSeason.WTeamID[i]] = LastSeason.LScore[i]\n",
    "    if (LastSeason.LTeamID[i] in teamOppPts):\n",
    "        teamOppPts[LastSeason.LTeamID[i]] += LastSeason.WScore[i]\n",
    "    else:\n",
    "        teamOppPts[LastSeason.LTeamID[i]] = LastSeason.WScore[i]"
   ]
  },
  {
   "cell_type": "code",
   "execution_count": 326,
   "metadata": {},
   "outputs": [],
   "source": [
    "teamDefEff = dict()\n",
    "for i in teamOppPts:\n",
    "    teamDefEff[i] = ((teamOppPts[i] / teamOppPoss[i]) * 100)"
   ]
  },
  {
   "cell_type": "markdown",
   "metadata": {},
   "source": [
    "### Determine Ratings for each level of defensive efficiency"
   ]
  },
  {
   "cell_type": "code",
   "execution_count": 339,
   "metadata": {},
   "outputs": [
    {
     "ename": "KeyError",
     "evalue": "3184",
     "output_type": "error",
     "traceback": [
      "\u001b[1;31m---------------------------------------------------------------------------\u001b[0m",
      "\u001b[1;31mKeyError\u001b[0m                                  Traceback (most recent call last)",
      "\u001b[1;32m<ipython-input-339-06e51364d004>\u001b[0m in \u001b[0;36m<module>\u001b[1;34m()\u001b[0m\n\u001b[0;32m      7\u001b[0m         \u001b[0mratings\u001b[0m\u001b[1;33m[\u001b[0m\u001b[0mi\u001b[0m\u001b[1;33m]\u001b[0m \u001b[1;33m+=\u001b[0m \u001b[1;36m9\u001b[0m\u001b[1;33m\u001b[0m\u001b[0m\n\u001b[0;32m      8\u001b[0m     \u001b[1;32melif\u001b[0m \u001b[1;33m(\u001b[0m\u001b[0mteamDefEff\u001b[0m\u001b[1;33m[\u001b[0m\u001b[0mi\u001b[0m\u001b[1;33m]\u001b[0m \u001b[1;33m<\u001b[0m \u001b[1;36m110\u001b[0m\u001b[1;33m)\u001b[0m\u001b[1;33m:\u001b[0m\u001b[1;33m\u001b[0m\u001b[0m\n\u001b[1;32m----> 9\u001b[1;33m         \u001b[0mratings\u001b[0m\u001b[1;33m[\u001b[0m\u001b[0mi\u001b[0m\u001b[1;33m]\u001b[0m \u001b[1;33m+=\u001b[0m \u001b[1;36m5\u001b[0m\u001b[1;33m\u001b[0m\u001b[0m\n\u001b[0m\u001b[0;32m     10\u001b[0m     \u001b[1;32melif\u001b[0m \u001b[1;33m(\u001b[0m\u001b[0mteamDefEff\u001b[0m\u001b[1;33m[\u001b[0m\u001b[0mi\u001b[0m\u001b[1;33m]\u001b[0m \u001b[1;33m<\u001b[0m \u001b[1;36m115\u001b[0m\u001b[1;33m)\u001b[0m\u001b[1;33m:\u001b[0m\u001b[1;33m\u001b[0m\u001b[0m\n\u001b[0;32m     11\u001b[0m         \u001b[0mratings\u001b[0m\u001b[1;33m[\u001b[0m\u001b[0mi\u001b[0m\u001b[1;33m]\u001b[0m \u001b[1;33m+=\u001b[0m \u001b[1;36m3\u001b[0m\u001b[1;33m\u001b[0m\u001b[0m\n",
      "\u001b[1;31mKeyError\u001b[0m: 3184"
     ]
    }
   ],
   "source": [
    "for i in teamDefEff:\n",
    "    if (teamDefEff[i] < 95):\n",
    "        ratings[i] += 20\n",
    "    elif (teamDefEff[i] < 100):\n",
    "        ratings[i] += 15\n",
    "    elif (teamDefEff[i] < 105):\n",
    "        ratings[i] += 9\n",
    "    elif (teamDefEff[i] < 110):\n",
    "        ratings[i] += 5\n",
    "    elif (teamDefEff[i] < 115):\n",
    "        ratings[i] += 3\n",
    "    elif (teamDefEff[i] < 120):\n",
    "        ratings[i] += 1"
   ]
  },
  {
   "cell_type": "markdown",
   "metadata": {},
   "source": [
    "### Calculate defensive rebounding percentage"
   ]
  },
  {
   "cell_type": "code",
   "execution_count": null,
   "metadata": {},
   "outputs": [],
   "source": [
    "teamDR = dict()\n",
    "for i in range(len(LastSeason)):\n",
    "    if (LastSeason.WTeamID[i] in teamDR):\n",
    "        teamDR[LastSeason.WTeamID[i]] += LastSeason.WDR[i]\n",
    "    else:\n",
    "        teamDR[LastSeason.WTeamID[i]] = LastSeason.WDR[i]\n",
    "    if (LastSeason.LTeamID[i] in teamDR):\n",
    "        teamDR[LastSeason.LTeamID[i]] += LastSeason.LDR[i]\n",
    "    else:\n",
    "        teamDR[LastSeason.LTeamID[i]] = LastSeason.LDR[i]"
   ]
  },
  {
   "cell_type": "code",
   "execution_count": null,
   "metadata": {},
   "outputs": [],
   "source": [
    "teamOppDR = dict()\n",
    "for i in range(len(LastSeason)):\n",
    "    if (LastSeason.WTeamID[i] in teamOppDR):\n",
    "        teamOppDR[LastSeason.WTeamID[i]] += LastSeason.LDR[i]\n",
    "    else:\n",
    "        teamOppDR[LastSeason.WTeamID[i]] = LastSeason.LDR[i]\n",
    "    if (LastSeason.LTeamID[i] in teamOppDR):\n",
    "        teamOppDR[LastSeason.LTeamID[i]] += LastSeason.WDR[i]\n",
    "    else:\n",
    "        teamOppDR[LastSeason.LTeamID[i]] = LastSeason.WDR[i]"
   ]
  },
  {
   "cell_type": "code",
   "execution_count": null,
   "metadata": {},
   "outputs": [],
   "source": [
    "teamDRpct = dict()\n",
    "for i in teamOppDR:\n",
    "    teamDRpct[i] = (teamDR[i] / (teamDR[i] + teamOppDR[i]))"
   ]
  },
  {
   "cell_type": "markdown",
   "metadata": {},
   "source": [
    "### Calculate Offensive Rebounding Percentage"
   ]
  },
  {
   "cell_type": "code",
   "execution_count": null,
   "metadata": {},
   "outputs": [],
   "source": [
    "teamOR = dict()\n",
    "for i in range(len(LastSeason)):\n",
    "    if (LastSeason.WTeamID[i] in teamOR):\n",
    "        teamOR[LastSeason.WTeamID[i]] += LastSeason.WOR[i]\n",
    "    else:\n",
    "        teamOR[LastSeason.WTeamID[i]] = LastSeason.WOR[i]\n",
    "    if (LastSeason.LTeamID[i] in teamOR):\n",
    "        teamOR[LastSeason.LTeamID[i]] += LastSeason.LOR[i]\n",
    "    else:\n",
    "        teamOR[LastSeason.LTeamID[i]] = LastSeason.LOR[i]"
   ]
  },
  {
   "cell_type": "code",
   "execution_count": null,
   "metadata": {},
   "outputs": [],
   "source": [
    "teamOppOR = dict()\n",
    "for i in range(len(LastSeason)):\n",
    "    if (LastSeason.WTeamID[i] in teamOppOR):\n",
    "        teamOppOR[LastSeason.WTeamID[i]] += LastSeason.LOR[i]\n",
    "    else:\n",
    "        teamOppOR[LastSeason.WTeamID[i]] = LastSeason.LOR[i]\n",
    "    if (LastSeason.LTeamID[i] in teamOppOR):\n",
    "        teamOppOR[LastSeason.LTeamID[i]] += LastSeason.WOR[i]\n",
    "    else:\n",
    "        teamOppOR[LastSeason.LTeamID[i]] = LastSeason.WOR[i]"
   ]
  },
  {
   "cell_type": "code",
   "execution_count": null,
   "metadata": {},
   "outputs": [],
   "source": [
    "teamORpct = dict()\n",
    "for i in teamOppOR:\n",
    "    teamORpct[i] = (teamOR[i] / (teamOR[i] + teamOppOR[i]))"
   ]
  },
  {
   "cell_type": "markdown",
   "metadata": {},
   "source": [
    "### Give ratings for levels of each rebounding efficiency"
   ]
  },
  {
   "cell_type": "code",
   "execution_count": null,
   "metadata": {},
   "outputs": [],
   "source": [
    "for i in teamDRpct:\n",
    "    if (teamDRpct[i] > 0.58):\n",
    "        ratings[i] += 10\n",
    "    elif (teamDRpct[i] > 0.56):\n",
    "        ratings[i] += 8\n",
    "    elif (teamDRpct[i] > 0.54):\n",
    "        ratings[i] += 6\n",
    "    elif (teamDRpct[i] > 0.51):\n",
    "        ratings[i] += 4\n",
    "    elif (teamDRpct[i] > 0.48):\n",
    "        ratings[i] += 2\n",
    "    elif (teamDRpct[i] > 0.45):\n",
    "        ratings[i] += 1  "
   ]
  },
  {
   "cell_type": "code",
   "execution_count": null,
   "metadata": {},
   "outputs": [],
   "source": [
    "for i in teamORpct:\n",
    "    if (teamORpct[i] > 0.6):\n",
    "        ratings[i] += 8\n",
    "    elif (teamORpct[i] > 0.57):\n",
    "        ratings[i] += 7\n",
    "    elif (teamORpct[i] > 0.54):\n",
    "        ratings[i] += 5\n",
    "    elif (teamORpct[i] > 0.52):\n",
    "        ratings[i] += 4\n",
    "    elif (teamORpct[i] > 0.50):\n",
    "        ratings[i] += 3\n",
    "    elif (teamORpct[i] > 0.47):\n",
    "        ratings[i] += 2  \n",
    "    elif (teamORpct[i] > 0.44):\n",
    "        ratings[i] += 1"
   ]
  },
  {
   "cell_type": "markdown",
   "metadata": {},
   "source": [
    "### Look at conferences for each team"
   ]
  },
  {
   "cell_type": "code",
   "execution_count": null,
   "metadata": {},
   "outputs": [],
   "source": [
    "print(menTeams.head())"
   ]
  },
  {
   "cell_type": "code",
   "execution_count": null,
   "metadata": {},
   "outputs": [],
   "source": [
    "conf = dict()\n",
    "for i in confTourney.index:\n",
    "    if (confTourney.WTeamID[i] not in conf):\n",
    "        conf[confTourney.WTeamID[i]] = confTourney.ConfAbbrev[i]\n",
    "    else:\n",
    "        continue\n",
    "    if (confTourney.LTeamID[i] not in conf):\n",
    "        conf[confTourney.LTeamID[i]] = confTourney.ConfAbbrev[i]\n",
    "    else:\n",
    "        continue    "
   ]
  },
  {
   "cell_type": "code",
   "execution_count": null,
   "metadata": {},
   "outputs": [],
   "source": [
    "teams['conference'] = pd.Series('', index = teams.index)\n",
    "for i in conf.keys():\n",
    "    x = menTeams.TeamName[menTeams.TeamID == i]\n",
    "    ind = x.index\n",
    "    teams['conference'][ind] = conf[i]"
   ]
  },
  {
   "cell_type": "markdown",
   "metadata": {},
   "source": [
    "### Look at ratings and compare to teams"
   ]
  },
  {
   "cell_type": "code",
   "execution_count": null,
   "metadata": {},
   "outputs": [],
   "source": [
    "teamRatings = pd.DataFrame.from_dict(ratings, orient = 'index')\n",
    "teamRatings['Name'] = ''"
   ]
  },
  {
   "cell_type": "code",
   "execution_count": null,
   "metadata": {},
   "outputs": [],
   "source": [
    "for i in teamRatings.index:\n",
    "    for j in range(len(teams)):\n",
    "        if (teams.TeamID[j] == i):\n",
    "            teamRatings['Name'][i] = teams.TeamName[j]"
   ]
  },
  {
   "cell_type": "code",
   "execution_count": null,
   "metadata": {},
   "outputs": [],
   "source": [
    "teamRatings.rename(columns = {0:'Rating'}, inplace = True)\n",
    "# teamRatings.head()"
   ]
  },
  {
   "cell_type": "code",
   "execution_count": 328,
   "metadata": {},
   "outputs": [],
   "source": [
    "teamRatings.sort_values(by=['Rating'], ascending = False, inplace = True)"
   ]
  },
  {
   "cell_type": "markdown",
   "metadata": {},
   "source": [
    "### Figure out location factor"
   ]
  },
  {
   "cell_type": "markdown",
   "metadata": {},
   "source": [
    "### How many close games were won"
   ]
  },
  {
   "cell_type": "code",
   "execution_count": 329,
   "metadata": {},
   "outputs": [],
   "source": [
    "teamCloser = dict()\n",
    "for i in range(len(LastSeason)):\n",
    "    if ((LastSeason.WScore[i] - LastSeason.LScore[i]) < 6):\n",
    "        if (LastSeason.WTeamID[i] in teamCloser):\n",
    "            teamCloser[LastSeason.WTeamID[i]] += 1\n",
    "        else:\n",
    "            teamCloser[LastSeason.WTeamID[i]] = 1\n",
    "        if (LastSeason.LTeamID[i] in teamCloser):\n",
    "            teamCloser[LastSeason.LTeamID[i]] -= 1\n",
    "        else:\n",
    "            teamCloser[LastSeason.LTeamID[i]] = -1"
   ]
  },
  {
   "cell_type": "code",
   "execution_count": 330,
   "metadata": {},
   "outputs": [
    {
     "name": "stdout",
     "output_type": "stream",
     "text": [
      "3140\n",
      "3330\n",
      "3414\n",
      "3129\n",
      "3199\n",
      "3347\n",
      "3325\n"
     ]
    }
   ],
   "source": [
    "for i in teamCloser:\n",
    "    if (teamCloser[i] > 5):\n",
    "        print(i)"
   ]
  },
  {
   "cell_type": "code",
   "execution_count": 331,
   "metadata": {},
   "outputs": [
    {
     "data": {
      "text/html": [
       "<div>\n",
       "<style scoped>\n",
       "    .dataframe tbody tr th:only-of-type {\n",
       "        vertical-align: middle;\n",
       "    }\n",
       "\n",
       "    .dataframe tbody tr th {\n",
       "        vertical-align: top;\n",
       "    }\n",
       "\n",
       "    .dataframe thead th {\n",
       "        text-align: right;\n",
       "    }\n",
       "</style>\n",
       "<table border=\"1\" class=\"dataframe\">\n",
       "  <thead>\n",
       "    <tr style=\"text-align: right;\">\n",
       "      <th></th>\n",
       "      <th>Rating</th>\n",
       "      <th>Name</th>\n",
       "      <th>Seed</th>\n",
       "      <th>Power6</th>\n",
       "    </tr>\n",
       "  </thead>\n",
       "  <tbody>\n",
       "    <tr>\n",
       "      <th>3124</th>\n",
       "      <td>100</td>\n",
       "      <td>Baylor</td>\n",
       "      <td>Y01</td>\n",
       "      <td>Yes</td>\n",
       "    </tr>\n",
       "    <tr>\n",
       "      <th>3163</th>\n",
       "      <td>96</td>\n",
       "      <td>Connecticut</td>\n",
       "      <td>W02</td>\n",
       "      <td>Yes</td>\n",
       "    </tr>\n",
       "    <tr>\n",
       "      <th>3280</th>\n",
       "      <td>92</td>\n",
       "      <td>Mississippi St</td>\n",
       "      <td>Z01</td>\n",
       "      <td>Yes</td>\n",
       "    </tr>\n",
       "    <tr>\n",
       "      <th>3332</th>\n",
       "      <td>89</td>\n",
       "      <td>Oregon</td>\n",
       "      <td>Z02</td>\n",
       "      <td>Yes</td>\n",
       "    </tr>\n",
       "    <tr>\n",
       "      <th>3323</th>\n",
       "      <td>87</td>\n",
       "      <td>Notre Dame</td>\n",
       "      <td>X01</td>\n",
       "      <td>Yes</td>\n",
       "    </tr>\n",
       "    <tr>\n",
       "      <th>3333</th>\n",
       "      <td>83</td>\n",
       "      <td>Oregon St</td>\n",
       "      <td>W04</td>\n",
       "      <td>Yes</td>\n",
       "    </tr>\n",
       "    <tr>\n",
       "      <th>3199</th>\n",
       "      <td>80</td>\n",
       "      <td>Florida St</td>\n",
       "      <td>Y05</td>\n",
       "      <td>Yes</td>\n",
       "    </tr>\n",
       "    <tr>\n",
       "      <th>3113</th>\n",
       "      <td>80</td>\n",
       "      <td>Arizona St</td>\n",
       "      <td>Z05</td>\n",
       "      <td>Yes</td>\n",
       "    </tr>\n",
       "    <tr>\n",
       "      <th>3268</th>\n",
       "      <td>80</td>\n",
       "      <td>Maryland</td>\n",
       "      <td>W03</td>\n",
       "      <td>Yes</td>\n",
       "    </tr>\n",
       "    <tr>\n",
       "      <th>3417</th>\n",
       "      <td>79</td>\n",
       "      <td>UCLA</td>\n",
       "      <td>W06</td>\n",
       "      <td>Yes</td>\n",
       "    </tr>\n",
       "    <tr>\n",
       "      <th>3400</th>\n",
       "      <td>78</td>\n",
       "      <td>Texas</td>\n",
       "      <td>Z07</td>\n",
       "      <td>Yes</td>\n",
       "    </tr>\n",
       "    <tr>\n",
       "      <th>3234</th>\n",
       "      <td>78</td>\n",
       "      <td>Iowa</td>\n",
       "      <td>Y02</td>\n",
       "      <td>Yes</td>\n",
       "    </tr>\n",
       "    <tr>\n",
       "      <th>3376</th>\n",
       "      <td>75</td>\n",
       "      <td>South Carolina</td>\n",
       "      <td>Y04</td>\n",
       "      <td>Yes</td>\n",
       "    </tr>\n",
       "    <tr>\n",
       "      <th>3437</th>\n",
       "      <td>75</td>\n",
       "      <td>Villanova</td>\n",
       "      <td></td>\n",
       "      <td>Yes</td>\n",
       "    </tr>\n",
       "    <tr>\n",
       "      <th>3276</th>\n",
       "      <td>74</td>\n",
       "      <td>Michigan</td>\n",
       "      <td>W08</td>\n",
       "      <td>Yes</td>\n",
       "    </tr>\n",
       "    <tr>\n",
       "      <th>3281</th>\n",
       "      <td>74</td>\n",
       "      <td>Missouri</td>\n",
       "      <td>Y07</td>\n",
       "      <td>Yes</td>\n",
       "    </tr>\n",
       "    <tr>\n",
       "      <th>3326</th>\n",
       "      <td>74</td>\n",
       "      <td>Ohio St</td>\n",
       "      <td></td>\n",
       "      <td>Yes</td>\n",
       "    </tr>\n",
       "    <tr>\n",
       "      <th>3401</th>\n",
       "      <td>73</td>\n",
       "      <td>Texas A&amp;M</td>\n",
       "      <td>X04</td>\n",
       "      <td>Yes</td>\n",
       "    </tr>\n",
       "    <tr>\n",
       "      <th>3329</th>\n",
       "      <td>73</td>\n",
       "      <td>Oklahoma St</td>\n",
       "      <td></td>\n",
       "      <td>Yes</td>\n",
       "    </tr>\n",
       "    <tr>\n",
       "      <th>3278</th>\n",
       "      <td>73</td>\n",
       "      <td>Minnesota</td>\n",
       "      <td></td>\n",
       "      <td>Yes</td>\n",
       "    </tr>\n",
       "    <tr>\n",
       "      <th>3397</th>\n",
       "      <td>70</td>\n",
       "      <td>Tennessee</td>\n",
       "      <td>W11</td>\n",
       "      <td>Yes</td>\n",
       "    </tr>\n",
       "    <tr>\n",
       "      <th>3277</th>\n",
       "      <td>70</td>\n",
       "      <td>Michigan St</td>\n",
       "      <td>X09</td>\n",
       "      <td>Yes</td>\n",
       "    </tr>\n",
       "    <tr>\n",
       "      <th>3301</th>\n",
       "      <td>68</td>\n",
       "      <td>NC State</td>\n",
       "      <td>Y03</td>\n",
       "      <td>Yes</td>\n",
       "    </tr>\n",
       "    <tr>\n",
       "      <th>3181</th>\n",
       "      <td>67</td>\n",
       "      <td>Duke</td>\n",
       "      <td></td>\n",
       "      <td>Yes</td>\n",
       "    </tr>\n",
       "    <tr>\n",
       "      <th>3452</th>\n",
       "      <td>66</td>\n",
       "      <td>West Virginia</td>\n",
       "      <td></td>\n",
       "      <td>Yes</td>\n",
       "    </tr>\n",
       "    <tr>\n",
       "      <th>3393</th>\n",
       "      <td>66</td>\n",
       "      <td>Syracuse</td>\n",
       "      <td>Z03</td>\n",
       "      <td>Yes</td>\n",
       "    </tr>\n",
       "    <tr>\n",
       "      <th>3425</th>\n",
       "      <td>66</td>\n",
       "      <td>USC</td>\n",
       "      <td></td>\n",
       "      <td>Yes</td>\n",
       "    </tr>\n",
       "    <tr>\n",
       "      <th>3439</th>\n",
       "      <td>64</td>\n",
       "      <td>Virginia Tech</td>\n",
       "      <td></td>\n",
       "      <td>Yes</td>\n",
       "    </tr>\n",
       "    <tr>\n",
       "      <th>3207</th>\n",
       "      <td>64</td>\n",
       "      <td>Georgetown</td>\n",
       "      <td></td>\n",
       "      <td>Yes</td>\n",
       "    </tr>\n",
       "    <tr>\n",
       "      <th>3125</th>\n",
       "      <td>63</td>\n",
       "      <td>Belmont</td>\n",
       "      <td>Y13</td>\n",
       "      <td></td>\n",
       "    </tr>\n",
       "  </tbody>\n",
       "</table>\n",
       "</div>"
      ],
      "text/plain": [
       "      Rating            Name Seed Power6\n",
       "3124     100          Baylor  Y01    Yes\n",
       "3163      96     Connecticut  W02    Yes\n",
       "3280      92  Mississippi St  Z01    Yes\n",
       "3332      89          Oregon  Z02    Yes\n",
       "3323      87      Notre Dame  X01    Yes\n",
       "3333      83       Oregon St  W04    Yes\n",
       "3199      80      Florida St  Y05    Yes\n",
       "3113      80      Arizona St  Z05    Yes\n",
       "3268      80        Maryland  W03    Yes\n",
       "3417      79            UCLA  W06    Yes\n",
       "3400      78           Texas  Z07    Yes\n",
       "3234      78            Iowa  Y02    Yes\n",
       "3376      75  South Carolina  Y04    Yes\n",
       "3437      75       Villanova         Yes\n",
       "3276      74        Michigan  W08    Yes\n",
       "3281      74        Missouri  Y07    Yes\n",
       "3326      74         Ohio St         Yes\n",
       "3401      73       Texas A&M  X04    Yes\n",
       "3329      73     Oklahoma St         Yes\n",
       "3278      73       Minnesota         Yes\n",
       "3397      70       Tennessee  W11    Yes\n",
       "3277      70     Michigan St  X09    Yes\n",
       "3301      68        NC State  Y03    Yes\n",
       "3181      67            Duke         Yes\n",
       "3452      66   West Virginia         Yes\n",
       "3393      66        Syracuse  Z03    Yes\n",
       "3425      66             USC         Yes\n",
       "3439      64   Virginia Tech         Yes\n",
       "3207      64      Georgetown         Yes\n",
       "3125      63         Belmont  Y13       "
      ]
     },
     "execution_count": 331,
     "metadata": {},
     "output_type": "execute_result"
    }
   ],
   "source": [
    "teamRatings[:30]"
   ]
  },
  {
   "cell_type": "code",
   "execution_count": 332,
   "metadata": {},
   "outputs": [
    {
     "data": {
      "text/html": [
       "<div>\n",
       "<style scoped>\n",
       "    .dataframe tbody tr th:only-of-type {\n",
       "        vertical-align: middle;\n",
       "    }\n",
       "\n",
       "    .dataframe tbody tr th {\n",
       "        vertical-align: top;\n",
       "    }\n",
       "\n",
       "    .dataframe thead th {\n",
       "        text-align: right;\n",
       "    }\n",
       "</style>\n",
       "<table border=\"1\" class=\"dataframe\">\n",
       "  <thead>\n",
       "    <tr style=\"text-align: right;\">\n",
       "      <th></th>\n",
       "      <th>Rating</th>\n",
       "      <th>Name</th>\n",
       "      <th>Seed</th>\n",
       "      <th>Power6</th>\n",
       "    </tr>\n",
       "  </thead>\n",
       "  <tbody>\n",
       "  </tbody>\n",
       "</table>\n",
       "</div>"
      ],
      "text/plain": [
       "Empty DataFrame\n",
       "Columns: [Rating, Name, Seed, Power6]\n",
       "Index: []"
      ]
     },
     "execution_count": 332,
     "metadata": {},
     "output_type": "execute_result"
    }
   ],
   "source": [
    "teamRatings[teamRatings.Name == 'Miami Fl']"
   ]
  },
  {
   "cell_type": "code",
   "execution_count": 333,
   "metadata": {},
   "outputs": [
    {
     "data": {
      "text/html": [
       "<div>\n",
       "<style scoped>\n",
       "    .dataframe tbody tr th:only-of-type {\n",
       "        vertical-align: middle;\n",
       "    }\n",
       "\n",
       "    .dataframe tbody tr th {\n",
       "        vertical-align: top;\n",
       "    }\n",
       "\n",
       "    .dataframe thead th {\n",
       "        text-align: right;\n",
       "    }\n",
       "</style>\n",
       "<table border=\"1\" class=\"dataframe\">\n",
       "  <thead>\n",
       "    <tr style=\"text-align: right;\">\n",
       "      <th></th>\n",
       "      <th>Rating</th>\n",
       "      <th>Name</th>\n",
       "      <th>Seed</th>\n",
       "      <th>Power6</th>\n",
       "    </tr>\n",
       "  </thead>\n",
       "  <tbody>\n",
       "    <tr>\n",
       "      <th>3396</th>\n",
       "      <td>17</td>\n",
       "      <td>Temple</td>\n",
       "      <td></td>\n",
       "      <td></td>\n",
       "    </tr>\n",
       "  </tbody>\n",
       "</table>\n",
       "</div>"
      ],
      "text/plain": [
       "      Rating    Name Seed Power6\n",
       "3396      17  Temple            "
      ]
     },
     "execution_count": 333,
     "metadata": {},
     "output_type": "execute_result"
    }
   ],
   "source": [
    "teamRatings[teamRatings.Name.str.contains(\"Tem\")]"
   ]
  },
  {
   "cell_type": "code",
   "execution_count": 334,
   "metadata": {},
   "outputs": [],
   "source": [
    "seedsSeason = seeds[seeds.Season == 2019]\n",
    "seedsSeason.reset_index(inplace = True)"
   ]
  },
  {
   "cell_type": "code",
   "execution_count": 335,
   "metadata": {},
   "outputs": [
    {
     "data": {
      "text/html": [
       "<div>\n",
       "<style scoped>\n",
       "    .dataframe tbody tr th:only-of-type {\n",
       "        vertical-align: middle;\n",
       "    }\n",
       "\n",
       "    .dataframe tbody tr th {\n",
       "        vertical-align: top;\n",
       "    }\n",
       "\n",
       "    .dataframe thead th {\n",
       "        text-align: right;\n",
       "    }\n",
       "</style>\n",
       "<table border=\"1\" class=\"dataframe\">\n",
       "  <thead>\n",
       "    <tr style=\"text-align: right;\">\n",
       "      <th></th>\n",
       "      <th>index</th>\n",
       "      <th>Season</th>\n",
       "      <th>Seed</th>\n",
       "      <th>TeamID</th>\n",
       "    </tr>\n",
       "  </thead>\n",
       "  <tbody>\n",
       "    <tr>\n",
       "      <th>0</th>\n",
       "      <td>1344</td>\n",
       "      <td>2019</td>\n",
       "      <td>W01</td>\n",
       "      <td>3257</td>\n",
       "    </tr>\n",
       "    <tr>\n",
       "      <th>1</th>\n",
       "      <td>1345</td>\n",
       "      <td>2019</td>\n",
       "      <td>W02</td>\n",
       "      <td>3163</td>\n",
       "    </tr>\n",
       "    <tr>\n",
       "      <th>2</th>\n",
       "      <td>1346</td>\n",
       "      <td>2019</td>\n",
       "      <td>W03</td>\n",
       "      <td>3268</td>\n",
       "    </tr>\n",
       "    <tr>\n",
       "      <th>3</th>\n",
       "      <td>1347</td>\n",
       "      <td>2019</td>\n",
       "      <td>W04</td>\n",
       "      <td>3333</td>\n",
       "    </tr>\n",
       "    <tr>\n",
       "      <th>4</th>\n",
       "      <td>1348</td>\n",
       "      <td>2019</td>\n",
       "      <td>W05</td>\n",
       "      <td>3211</td>\n",
       "    </tr>\n",
       "  </tbody>\n",
       "</table>\n",
       "</div>"
      ],
      "text/plain": [
       "   index  Season Seed  TeamID\n",
       "0   1344    2019  W01    3257\n",
       "1   1345    2019  W02    3163\n",
       "2   1346    2019  W03    3268\n",
       "3   1347    2019  W04    3333\n",
       "4   1348    2019  W05    3211"
      ]
     },
     "execution_count": 335,
     "metadata": {},
     "output_type": "execute_result"
    }
   ],
   "source": [
    "seedsSeason.head()"
   ]
  },
  {
   "cell_type": "code",
   "execution_count": 336,
   "metadata": {},
   "outputs": [
    {
     "name": "stderr",
     "output_type": "stream",
     "text": [
      "C:\\Users\\brand\\Anaconda3\\lib\\site-packages\\ipykernel_launcher.py:5: SettingWithCopyWarning: \n",
      "A value is trying to be set on a copy of a slice from a DataFrame\n",
      "\n",
      "See the caveats in the documentation: http://pandas.pydata.org/pandas-docs/stable/indexing.html#indexing-view-versus-copy\n",
      "  \"\"\"\n"
     ]
    }
   ],
   "source": [
    "teamRatings['Seed'] = ''\n",
    "for i in teamRatings.index:\n",
    "    for j in range(len(seedsSeason)):\n",
    "        if (seedsSeason.TeamID[j] == i):\n",
    "            teamRatings['Seed'][i] = seedsSeason.Seed[j]"
   ]
  },
  {
   "cell_type": "code",
   "execution_count": 337,
   "metadata": {},
   "outputs": [
    {
     "data": {
      "text/plain": [
       "3104    Alabama\n",
       "Name: Name, dtype: object"
      ]
     },
     "execution_count": 337,
     "metadata": {},
     "output_type": "execute_result"
    }
   ],
   "source": [
    "teamRatings[teamRatings.index == 3104].Name"
   ]
  },
  {
   "cell_type": "code",
   "execution_count": 338,
   "metadata": {},
   "outputs": [
    {
     "ename": "AttributeError",
     "evalue": "'DataFrame' object has no attribute 'conference'",
     "output_type": "error",
     "traceback": [
      "\u001b[1;31m---------------------------------------------------------------------------\u001b[0m",
      "\u001b[1;31mAttributeError\u001b[0m                            Traceback (most recent call last)",
      "\u001b[1;32m<ipython-input-338-527b53bec9ab>\u001b[0m in \u001b[0;36m<module>\u001b[1;34m()\u001b[0m\n\u001b[0;32m      1\u001b[0m \u001b[0mteamRatings\u001b[0m\u001b[1;33m[\u001b[0m\u001b[1;34m'Power6'\u001b[0m\u001b[1;33m]\u001b[0m \u001b[1;33m=\u001b[0m \u001b[1;34m''\u001b[0m\u001b[1;33m\u001b[0m\u001b[0m\n\u001b[0;32m      2\u001b[0m \u001b[1;32mfor\u001b[0m \u001b[0mi\u001b[0m \u001b[1;32min\u001b[0m \u001b[0mteams\u001b[0m\u001b[1;33m.\u001b[0m\u001b[0mindex\u001b[0m\u001b[1;33m:\u001b[0m\u001b[1;33m\u001b[0m\u001b[0m\n\u001b[1;32m----> 3\u001b[1;33m     if (teams.conference[i] == 'pac_ten' or teams.conference[i] == 'sec' or \n\u001b[0m\u001b[0;32m      4\u001b[0m         \u001b[0mteams\u001b[0m\u001b[1;33m.\u001b[0m\u001b[0mconference\u001b[0m\u001b[1;33m[\u001b[0m\u001b[0mi\u001b[0m\u001b[1;33m]\u001b[0m \u001b[1;33m==\u001b[0m \u001b[1;34m'big_east'\u001b[0m \u001b[1;32mor\u001b[0m \u001b[0mteams\u001b[0m\u001b[1;33m.\u001b[0m\u001b[0mconference\u001b[0m\u001b[1;33m[\u001b[0m\u001b[0mi\u001b[0m\u001b[1;33m]\u001b[0m \u001b[1;33m==\u001b[0m \u001b[1;34m'acc'\u001b[0m \u001b[1;32mor\u001b[0m\u001b[1;33m\u001b[0m\u001b[0m\n\u001b[0;32m      5\u001b[0m         teams.conference[i] == 'big_twelve' or teams.conference[i] == 'big_ten'):\n",
      "\u001b[1;32m~\\Anaconda3\\lib\\site-packages\\pandas\\core\\generic.py\u001b[0m in \u001b[0;36m__getattr__\u001b[1;34m(self, name)\u001b[0m\n\u001b[0;32m   3612\u001b[0m             \u001b[1;32mif\u001b[0m \u001b[0mname\u001b[0m \u001b[1;32min\u001b[0m \u001b[0mself\u001b[0m\u001b[1;33m.\u001b[0m\u001b[0m_info_axis\u001b[0m\u001b[1;33m:\u001b[0m\u001b[1;33m\u001b[0m\u001b[0m\n\u001b[0;32m   3613\u001b[0m                 \u001b[1;32mreturn\u001b[0m \u001b[0mself\u001b[0m\u001b[1;33m[\u001b[0m\u001b[0mname\u001b[0m\u001b[1;33m]\u001b[0m\u001b[1;33m\u001b[0m\u001b[0m\n\u001b[1;32m-> 3614\u001b[1;33m             \u001b[1;32mreturn\u001b[0m \u001b[0mobject\u001b[0m\u001b[1;33m.\u001b[0m\u001b[0m__getattribute__\u001b[0m\u001b[1;33m(\u001b[0m\u001b[0mself\u001b[0m\u001b[1;33m,\u001b[0m \u001b[0mname\u001b[0m\u001b[1;33m)\u001b[0m\u001b[1;33m\u001b[0m\u001b[0m\n\u001b[0m\u001b[0;32m   3615\u001b[0m \u001b[1;33m\u001b[0m\u001b[0m\n\u001b[0;32m   3616\u001b[0m     \u001b[1;32mdef\u001b[0m \u001b[0m__setattr__\u001b[0m\u001b[1;33m(\u001b[0m\u001b[0mself\u001b[0m\u001b[1;33m,\u001b[0m \u001b[0mname\u001b[0m\u001b[1;33m,\u001b[0m \u001b[0mvalue\u001b[0m\u001b[1;33m)\u001b[0m\u001b[1;33m:\u001b[0m\u001b[1;33m\u001b[0m\u001b[0m\n",
      "\u001b[1;31mAttributeError\u001b[0m: 'DataFrame' object has no attribute 'conference'"
     ]
    }
   ],
   "source": [
    "teamRatings['Power6'] = ''\n",
    "for i in teams.index:\n",
    "    if (teams.conference[i] == 'pac_ten' or teams.conference[i] == 'sec' or \n",
    "        teams.conference[i] == 'big_east' or teams.conference[i] == 'acc' or \n",
    "        teams.conference[i] == 'big_twelve' or teams.conference[i] == 'big_ten'):\n",
    "        teamRatings.Power6[teamRatings.index == teams.TeamID[i]] = 'Yes'"
   ]
  },
  {
   "cell_type": "code",
   "execution_count": null,
   "metadata": {},
   "outputs": [],
   "source": [
    "for i in teamRatings.index:\n",
    "    if (teamRatings.Power6[i] == 'Yes'):\n",
    "        teamRatings.Rating[i] += 7"
   ]
  },
  {
   "cell_type": "code",
   "execution_count": null,
   "metadata": {},
   "outputs": [],
   "source": [
    "teamRatings[teamRatings.Name.str.contains(\"Mich\")]"
   ]
  },
  {
   "cell_type": "code",
   "execution_count": null,
   "metadata": {},
   "outputs": [],
   "source": [
    "# rd2 = teamRatings.copy(deep = True)\n",
    "# for i in rd2.index:\n",
    "#     if (teamRatings.Seed[i][1:] == '13' or teamRatings.Seed[i][1:] == '14' or teamRatings.Seed[i][1:] == '15' or teamRatings.Seed[i][1:] == '16'):\n",
    "#         teamRatings.Rating[i] = 0.75 * teamRatings.Rating[i]\n",
    "#     elif (teamRatings.Seed[i][1:] == '09' or teamRatings.Seed[i][1:] == '10' or teamRatings.Seed[i][1:] == '11' or teamRatings.Seed[i][1:] == '12'):\n",
    "#         teamRatings.Rating[i] = 0.8 * teamRatings.Rating[i]\n",
    "#     elif (teamRatings.Seed[i][1:] == '06' or teamRatings.Seed[i][1:] == '07' or teamRatings.Seed[i][1:] == '08'):\n",
    "#         teamRatings.Rating[i] = 0.85 * teamRatings.Rating[i]\n",
    "#     elif (teamRatings.Seed[i][1:] == '03' or teamRatings.Seed[i][1:] == '04' or teamRatings.Seed[i][1:] == '05'):\n",
    "#         teamRatings.Rating[i] = 0.95 * teamRatings.Rating[i]        \n",
    "    "
   ]
  },
  {
   "cell_type": "code",
   "execution_count": null,
   "metadata": {},
   "outputs": [],
   "source": [
    "rd2[rd2.Name == \"Kentucky\"]"
   ]
  },
  {
   "cell_type": "code",
   "execution_count": null,
   "metadata": {},
   "outputs": [],
   "source": []
  },
  {
   "cell_type": "code",
   "execution_count": null,
   "metadata": {},
   "outputs": [],
   "source": []
  },
  {
   "cell_type": "code",
   "execution_count": 7,
   "metadata": {},
   "outputs": [],
   "source": [
    "import geopy\n",
    "\n",
    "cities = pd.read_csv('Cities.csv')\n",
    "gameCities = pd.read_csv('GameCities.csv')"
   ]
  },
  {
   "cell_type": "code",
   "execution_count": 11,
   "metadata": {},
   "outputs": [
    {
     "data": {
      "text/html": [
       "<div>\n",
       "<style scoped>\n",
       "    .dataframe tbody tr th:only-of-type {\n",
       "        vertical-align: middle;\n",
       "    }\n",
       "\n",
       "    .dataframe tbody tr th {\n",
       "        vertical-align: top;\n",
       "    }\n",
       "\n",
       "    .dataframe thead th {\n",
       "        text-align: right;\n",
       "    }\n",
       "</style>\n",
       "<table border=\"1\" class=\"dataframe\">\n",
       "  <thead>\n",
       "    <tr style=\"text-align: right;\">\n",
       "      <th></th>\n",
       "      <th>CityID</th>\n",
       "      <th>City</th>\n",
       "      <th>State</th>\n",
       "    </tr>\n",
       "  </thead>\n",
       "  <tbody>\n",
       "    <tr>\n",
       "      <th>0</th>\n",
       "      <td>4001</td>\n",
       "      <td>Abilene</td>\n",
       "      <td>TX</td>\n",
       "    </tr>\n",
       "    <tr>\n",
       "      <th>1</th>\n",
       "      <td>4002</td>\n",
       "      <td>Akron</td>\n",
       "      <td>OH</td>\n",
       "    </tr>\n",
       "    <tr>\n",
       "      <th>2</th>\n",
       "      <td>4003</td>\n",
       "      <td>Albany</td>\n",
       "      <td>NY</td>\n",
       "    </tr>\n",
       "    <tr>\n",
       "      <th>3</th>\n",
       "      <td>4004</td>\n",
       "      <td>Albuquerque</td>\n",
       "      <td>NM</td>\n",
       "    </tr>\n",
       "    <tr>\n",
       "      <th>4</th>\n",
       "      <td>4005</td>\n",
       "      <td>Allentown</td>\n",
       "      <td>PA</td>\n",
       "    </tr>\n",
       "  </tbody>\n",
       "</table>\n",
       "</div>"
      ],
      "text/plain": [
       "   CityID         City State\n",
       "0    4001      Abilene    TX\n",
       "1    4002        Akron    OH\n",
       "2    4003       Albany    NY\n",
       "3    4004  Albuquerque    NM\n",
       "4    4005    Allentown    PA"
      ]
     },
     "execution_count": 11,
     "metadata": {},
     "output_type": "execute_result"
    }
   ],
   "source": [
    "cities.head()"
   ]
  },
  {
   "cell_type": "code",
   "execution_count": 10,
   "metadata": {},
   "outputs": [
    {
     "data": {
      "text/html": [
       "<div>\n",
       "<style scoped>\n",
       "    .dataframe tbody tr th:only-of-type {\n",
       "        vertical-align: middle;\n",
       "    }\n",
       "\n",
       "    .dataframe tbody tr th {\n",
       "        vertical-align: top;\n",
       "    }\n",
       "\n",
       "    .dataframe thead th {\n",
       "        text-align: right;\n",
       "    }\n",
       "</style>\n",
       "<table border=\"1\" class=\"dataframe\">\n",
       "  <thead>\n",
       "    <tr style=\"text-align: right;\">\n",
       "      <th></th>\n",
       "      <th>TeamID</th>\n",
       "      <th>TeamName</th>\n",
       "      <th>FirstD1Season</th>\n",
       "      <th>LastD1Season</th>\n",
       "    </tr>\n",
       "  </thead>\n",
       "  <tbody>\n",
       "    <tr>\n",
       "      <th>0</th>\n",
       "      <td>1101</td>\n",
       "      <td>Abilene Chr</td>\n",
       "      <td>2014</td>\n",
       "      <td>2019</td>\n",
       "    </tr>\n",
       "    <tr>\n",
       "      <th>1</th>\n",
       "      <td>1102</td>\n",
       "      <td>Air Force</td>\n",
       "      <td>1985</td>\n",
       "      <td>2019</td>\n",
       "    </tr>\n",
       "    <tr>\n",
       "      <th>2</th>\n",
       "      <td>1103</td>\n",
       "      <td>Akron</td>\n",
       "      <td>1985</td>\n",
       "      <td>2019</td>\n",
       "    </tr>\n",
       "    <tr>\n",
       "      <th>3</th>\n",
       "      <td>1104</td>\n",
       "      <td>Alabama</td>\n",
       "      <td>1985</td>\n",
       "      <td>2019</td>\n",
       "    </tr>\n",
       "    <tr>\n",
       "      <th>4</th>\n",
       "      <td>1105</td>\n",
       "      <td>Alabama A&amp;M</td>\n",
       "      <td>2000</td>\n",
       "      <td>2019</td>\n",
       "    </tr>\n",
       "  </tbody>\n",
       "</table>\n",
       "</div>"
      ],
      "text/plain": [
       "   TeamID     TeamName  FirstD1Season  LastD1Season\n",
       "0    1101  Abilene Chr           2014          2019\n",
       "1    1102    Air Force           1985          2019\n",
       "2    1103        Akron           1985          2019\n",
       "3    1104      Alabama           1985          2019\n",
       "4    1105  Alabama A&M           2000          2019"
      ]
     },
     "execution_count": 10,
     "metadata": {},
     "output_type": "execute_result"
    }
   ],
   "source": [
    "teams.head()"
   ]
  },
  {
   "cell_type": "code",
   "execution_count": null,
   "metadata": {},
   "outputs": [],
   "source": []
  }
 ],
 "metadata": {
  "kernelspec": {
   "display_name": "Python 3",
   "language": "python",
   "name": "python3"
  },
  "language_info": {
   "codemirror_mode": {
    "name": "ipython",
    "version": 3
   },
   "file_extension": ".py",
   "mimetype": "text/x-python",
   "name": "python",
   "nbconvert_exporter": "python",
   "pygments_lexer": "ipython3",
   "version": "3.6.4"
  }
 },
 "nbformat": 4,
 "nbformat_minor": 2
}
